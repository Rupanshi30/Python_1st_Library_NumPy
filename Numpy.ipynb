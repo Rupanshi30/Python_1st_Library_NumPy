{
 "cells": [
  {
   "cell_type": "code",
   "execution_count": 7,
   "id": "dd907d4c",
   "metadata": {},
   "outputs": [
    {
     "name": "stdout",
     "output_type": "stream",
     "text": [
      "6.666666666666667\n",
      "5.0\n",
      "1.6666666666666667\n",
      "3.3333333333333335\n"
     ]
    }
   ],
   "source": [
    "d=[400,300,100,200]\n",
    "sp=[40,50,70,60]\n",
    "#t=d/sp\n",
    "for i in d:\n",
    "    for j in sp:\n",
    "        t=i/j\n",
    "    print(t)\n"
   ]
  },
  {
   "cell_type": "code",
   "execution_count": 8,
   "id": "bcce3ba1",
   "metadata": {},
   "outputs": [
    {
     "data": {
      "text/plain": [
       "[(400, 40), (300, 50), (100, 70), (200, 60)]"
      ]
     },
     "execution_count": 8,
     "metadata": {},
     "output_type": "execute_result"
    }
   ],
   "source": [
    "d=[400,300,100,200]\n",
    "sp=[40,50,70,60]\n",
    "#t=d/sp\n",
    "t=list(zip(d,sp))\n",
    "t"
   ]
  },
  {
   "cell_type": "code",
   "execution_count": 10,
   "id": "9440bfb8",
   "metadata": {},
   "outputs": [
    {
     "data": {
      "text/plain": [
       "[[400, 40], [300, 50], [100, 70], [200, 60]]"
      ]
     },
     "execution_count": 10,
     "metadata": {},
     "output_type": "execute_result"
    }
   ],
   "source": [
    "main=[]\n",
    "for i in t:\n",
    "    l=[]\n",
    "    for j in i:\n",
    "        l.append(j)\n",
    "    main.append(l)\n",
    "main"
   ]
  },
  {
   "cell_type": "code",
   "execution_count": 13,
   "id": "a020f819",
   "metadata": {},
   "outputs": [
    {
     "name": "stdout",
     "output_type": "stream",
     "text": [
      "[10.0, 6.0, 1.4285714285714286, 3.3333333333333335]\n"
     ]
    }
   ],
   "source": [
    "time=[]\n",
    "for k in main:\n",
    "    time.append(k[0]/k[1])\n",
    "print(time)\n",
    "        "
   ]
  },
  {
   "cell_type": "markdown",
   "id": "42c1d983",
   "metadata": {},
   "source": [
    "## above code is too long, if data is large then list won't fullfill the purpose\n",
    "### use array(solves efficiently) in numpy"
   ]
  },
  {
   "cell_type": "markdown",
   "id": "3bb26e41",
   "metadata": {},
   "source": [
    "# numpy"
   ]
  },
  {
   "cell_type": "markdown",
   "id": "5d6b5983",
   "metadata": {},
   "source": [
    "### array performs element wise operation"
   ]
  },
  {
   "cell_type": "code",
   "execution_count": 14,
   "id": "3dede815",
   "metadata": {},
   "outputs": [
    {
     "data": {
      "text/plain": [
       "array([10.        ,  6.        ,  1.42857143,  3.33333333])"
      ]
     },
     "execution_count": 14,
     "metadata": {},
     "output_type": "execute_result"
    }
   ],
   "source": [
    "import numpy as np\n",
    "d1=np.array([400,300,100,200])\n",
    "sp1=np.array([40,50,70,60])\n",
    "d1/sp1\n"
   ]
  },
  {
   "cell_type": "markdown",
   "id": "e5245388",
   "metadata": {},
   "source": [
    "### array stores homogeneous data\n",
    "### only no.s(int,float,complex)--stores string but not same ops\n",
    "### fast and efficient\n",
    "### supports various mathematical fns"
   ]
  },
  {
   "cell_type": "markdown",
   "id": "8c982318",
   "metadata": {},
   "source": [
    "### array can perform complex operations"
   ]
  },
  {
   "cell_type": "markdown",
   "id": "1bd614e6",
   "metadata": {},
   "source": [
    "## the core data structure of numpy is : ndarray -n dimensional array"
   ]
  },
  {
   "cell_type": "markdown",
   "id": "60cb4ac4",
   "metadata": {},
   "source": [
    "## u can create array from list and tuple"
   ]
  },
  {
   "cell_type": "code",
   "execution_count": 15,
   "id": "82f761ba",
   "metadata": {},
   "outputs": [
    {
     "data": {
      "text/plain": [
       "array([1, 2, 3, 4, 5, 6])"
      ]
     },
     "execution_count": 15,
     "metadata": {},
     "output_type": "execute_result"
    }
   ],
   "source": [
    "a=np.array([1,2,3,4,5,6]) ## array creation from 1-dlist \n",
    "a"
   ]
  },
  {
   "cell_type": "code",
   "execution_count": 16,
   "id": "f826625a",
   "metadata": {},
   "outputs": [
    {
     "data": {
      "text/plain": [
       "numpy.ndarray"
      ]
     },
     "execution_count": 16,
     "metadata": {},
     "output_type": "execute_result"
    }
   ],
   "source": [
    "type(a)"
   ]
  },
  {
   "cell_type": "code",
   "execution_count": 18,
   "id": "e5900483",
   "metadata": {},
   "outputs": [
    {
     "data": {
      "text/plain": [
       "dtype('int32')"
      ]
     },
     "execution_count": 18,
     "metadata": {},
     "output_type": "execute_result"
    }
   ],
   "source": [
    "a.dtype ## 1byte=8bites #it is taking 32 bites or 4 bytes in memory allocation"
   ]
  },
  {
   "cell_type": "code",
   "execution_count": 19,
   "id": "d31c1941",
   "metadata": {},
   "outputs": [
    {
     "data": {
      "text/plain": [
       "dtype('float64')"
      ]
     },
     "execution_count": 19,
     "metadata": {},
     "output_type": "execute_result"
    }
   ],
   "source": [
    "a=np.array([1,2.45,3.33,4,5,6])\n",
    "a.dtype  #dtype tells us the data type of element"
   ]
  },
  {
   "cell_type": "markdown",
   "id": "294de2fb",
   "metadata": {},
   "source": [
    "### 2-d list"
   ]
  },
  {
   "cell_type": "code",
   "execution_count": 20,
   "id": "a51b25e2",
   "metadata": {},
   "outputs": [
    {
     "name": "stderr",
     "output_type": "stream",
     "text": [
      "C:\\Users\\rupan\\AppData\\Local\\Temp\\ipykernel_2532\\3046475815.py:1: VisibleDeprecationWarning: Creating an ndarray from ragged nested sequences (which is a list-or-tuple of lists-or-tuples-or ndarrays with different lengths or shapes) is deprecated. If you meant to do this, you must specify 'dtype=object' when creating the ndarray.\n",
      "  a2=np.array([[20,30,70,90],[100,200,300]])     ## array creation from 2-d list\n"
     ]
    },
    {
     "data": {
      "text/plain": [
       "array([list([20, 30, 70, 90]), list([100, 200, 300])], dtype=object)"
      ]
     },
     "execution_count": 20,
     "metadata": {},
     "output_type": "execute_result"
    }
   ],
   "source": [
    "a2=np.array([[20,30,70,90],[100,200,300]])     ## array creation from 2-d list\n",
    "a2"
   ]
  },
  {
   "cell_type": "markdown",
   "id": "ed92a273",
   "metadata": {},
   "source": [
    "### always give equal no of elements in the lists"
   ]
  },
  {
   "cell_type": "code",
   "execution_count": 21,
   "id": "ac10b4b8",
   "metadata": {},
   "outputs": [
    {
     "data": {
      "text/plain": [
       "array([[ 20,  30,  70,  90],\n",
       "       [100, 200, 300, 400]])"
      ]
     },
     "execution_count": 21,
     "metadata": {},
     "output_type": "execute_result"
    }
   ],
   "source": [
    "a2=np.array([[20,30,70,90],[100,200,300,400]])     ## array creation from 2-d list\n",
    "a2"
   ]
  },
  {
   "cell_type": "markdown",
   "id": "902085ba",
   "metadata": {},
   "source": [
    "## 3-d array"
   ]
  },
  {
   "cell_type": "code",
   "execution_count": 24,
   "id": "7b892def",
   "metadata": {},
   "outputs": [
    {
     "data": {
      "text/plain": [
       "array([[[  2,   3],\n",
       "        [ 50,  80]],\n",
       "\n",
       "       [[ 20,  30],\n",
       "        [ 90, 100]]])"
      ]
     },
     "execution_count": 24,
     "metadata": {},
     "output_type": "execute_result"
    }
   ],
   "source": [
    "a3=np.array([[[2,3],[50,80]],[[20,30],[90,100]]])\n",
    "a3   # 3-d is collection of 2-d"
   ]
  },
  {
   "cell_type": "markdown",
   "id": "c36ff75d",
   "metadata": {},
   "source": [
    "## creating array using tuple()"
   ]
  },
  {
   "cell_type": "code",
   "execution_count": 25,
   "id": "cc98af44",
   "metadata": {},
   "outputs": [
    {
     "data": {
      "text/plain": [
       "array([20, 30, 50])"
      ]
     },
     "execution_count": 25,
     "metadata": {},
     "output_type": "execute_result"
    }
   ],
   "source": [
    "a1=np.array((20,30,50))\n",
    "a1"
   ]
  },
  {
   "cell_type": "code",
   "execution_count": 28,
   "id": "46c25601",
   "metadata": {},
   "outputs": [
    {
     "data": {
      "text/plain": [
       "dtype('<U5')"
      ]
     },
     "execution_count": 28,
     "metadata": {},
     "output_type": "execute_result"
    }
   ],
   "source": [
    "a1=np.array(\"hello\")\n",
    "a1\n",
    "a1.dtype   ## oth-d array--single value"
   ]
  },
  {
   "cell_type": "markdown",
   "id": "2356c9e8",
   "metadata": {},
   "source": [
    "## important properties/attributes of ndarray"
   ]
  },
  {
   "cell_type": "markdown",
   "id": "3ff22556",
   "metadata": {},
   "source": [
    "# 1.ndim-to check the no of dimension/axis of an array"
   ]
  },
  {
   "cell_type": "markdown",
   "id": "232e179e",
   "metadata": {},
   "source": [
    "### 3-d is collection of 2-d"
   ]
  },
  {
   "cell_type": "code",
   "execution_count": 31,
   "id": "bf8059b9",
   "metadata": {},
   "outputs": [
    {
     "name": "stdout",
     "output_type": "stream",
     "text": [
      "[20 30 90]\n"
     ]
    },
    {
     "data": {
      "text/plain": [
       "1"
      ]
     },
     "execution_count": 31,
     "metadata": {},
     "output_type": "execute_result"
    }
   ],
   "source": [
    "print(np.array([20,30,90]))\n",
    "a1=np.array([20,30,90])\n",
    "a1.ndim   #this array has 1 dimension"
   ]
  },
  {
   "cell_type": "code",
   "execution_count": 32,
   "id": "beaac7ae",
   "metadata": {},
   "outputs": [
    {
     "data": {
      "text/plain": [
       "2"
      ]
     },
     "execution_count": 32,
     "metadata": {},
     "output_type": "execute_result"
    }
   ],
   "source": [
    "a2=np.array([[20,30,70,90],[100,200,300,400]])\n",
    "a2.ndim"
   ]
  },
  {
   "cell_type": "code",
   "execution_count": 33,
   "id": "edcd02dd",
   "metadata": {},
   "outputs": [
    {
     "data": {
      "text/plain": [
       "2"
      ]
     },
     "execution_count": 33,
     "metadata": {},
     "output_type": "execute_result"
    }
   ],
   "source": [
    "c=np.array([[1, 2, 3], [4, 5, 6]])\n",
    "c.ndim"
   ]
  },
  {
   "cell_type": "code",
   "execution_count": 34,
   "id": "8d8cfef1",
   "metadata": {},
   "outputs": [
    {
     "data": {
      "text/plain": [
       "3"
      ]
     },
     "execution_count": 34,
     "metadata": {},
     "output_type": "execute_result"
    }
   ],
   "source": [
    "c=np.array([[[1, 2, 3], [4, 5, 6]], [[1, 2, 3], [4, 5, 6]]])\n",
    "c.ndim   ## dim -how many square brackets are open"
   ]
  },
  {
   "cell_type": "code",
   "execution_count": 36,
   "id": "1f0fa54d",
   "metadata": {},
   "outputs": [
    {
     "data": {
      "text/plain": [
       "5"
      ]
     },
     "execution_count": 36,
     "metadata": {},
     "output_type": "execute_result"
    }
   ],
   "source": [
    "e=np.array([[[[[2,4,5,6,90]]]]])\n",
    "e.ndim  ## 5 brackets are open so 5 dimension"
   ]
  },
  {
   "cell_type": "code",
   "execution_count": 37,
   "id": "31d028ce",
   "metadata": {},
   "outputs": [
    {
     "name": "stdout",
     "output_type": "stream",
     "text": [
      "0\n",
      "0\n",
      "1\n",
      "2\n",
      "3\n",
      "4\n",
      "2\n",
      "5\n"
     ]
    }
   ],
   "source": [
    "a = np.array(42)\n",
    "b = np.array([1, 2, 3, 4, 5]) # in  single dimension we can not judge the rows and columns\n",
    "c = np.array([[1, 2, 3], [4, 5, 6]])\n",
    "d = np.array([[[1, 2, 3], [4, 5, 6]], [[1, 2, 3], [4, 5, 6]]])\n",
    "e=np.array([[[[1, 2, 3], [4, 5, 6]]]])\n",
    "f=np.array([[2,3,4,5]])\n",
    "g=np.array([[[[[20,30]]]]])\n",
    "print(a.ndim)\n",
    "print(np.ndim(a))\n",
    "print(b.ndim)\n",
    "print(c.ndim)\n",
    "print(d.ndim)\n",
    "print(e.ndim)\n",
    "print(f.ndim)\n",
    "print(g.ndim)\n",
    "\n",
    "\n"
   ]
  },
  {
   "cell_type": "code",
   "execution_count": 42,
   "id": "fdfd4bb7",
   "metadata": {},
   "outputs": [
    {
     "data": {
      "text/plain": [
       "array([[[[[1, 2, 3]]]]])"
      ]
     },
     "execution_count": 42,
     "metadata": {},
     "output_type": "execute_result"
    }
   ],
   "source": [
    "a1=np.array([1,2,3],ndmin=5)\n",
    "a1"
   ]
  },
  {
   "cell_type": "markdown",
   "id": "8c46c8ba",
   "metadata": {},
   "source": [
    "## 2.shape- shape can be defined as the number of elements present in each dimension"
   ]
  },
  {
   "cell_type": "code",
   "execution_count": 43,
   "id": "e0f10f47",
   "metadata": {},
   "outputs": [
    {
     "name": "stdout",
     "output_type": "stream",
     "text": [
      "(3,)\n"
     ]
    }
   ],
   "source": [
    "a=np.array([1,2,3])\n",
    "print(a.shape)"
   ]
  },
  {
   "cell_type": "markdown",
   "id": "accfbf9c",
   "metadata": {},
   "source": [
    "## shape of 1-d- you can not judge in 1d if its a row or a column thats why comma is given after 3"
   ]
  },
  {
   "cell_type": "markdown",
   "id": "5e66bed0",
   "metadata": {},
   "source": [
    "## shape of 2-d"
   ]
  },
  {
   "cell_type": "code",
   "execution_count": 45,
   "id": "9b8962ef",
   "metadata": {},
   "outputs": [
    {
     "data": {
      "text/plain": [
       "(2, 3)"
      ]
     },
     "execution_count": 45,
     "metadata": {},
     "output_type": "execute_result"
    }
   ],
   "source": [
    "arr1=np.array([[1,2,3],[4,5,6]])\n",
    "arr1.shape"
   ]
  },
  {
   "cell_type": "code",
   "execution_count": 46,
   "id": "eae77ef7",
   "metadata": {},
   "outputs": [
    {
     "data": {
      "text/plain": [
       "(3, 4)"
      ]
     },
     "execution_count": 46,
     "metadata": {},
     "output_type": "execute_result"
    }
   ],
   "source": [
    "arr2=np.array([[2,3,4,5],[3,4,5,6],[4,56,6,7]])\n",
    "arr2.shape"
   ]
  },
  {
   "cell_type": "code",
   "execution_count": 47,
   "id": "2df88b4c",
   "metadata": {},
   "outputs": [
    {
     "data": {
      "text/plain": [
       "(1, 4)"
      ]
     },
     "execution_count": 47,
     "metadata": {},
     "output_type": "execute_result"
    }
   ],
   "source": [
    "arr4=np.array([[1,2,3,4]])\n",
    "arr4.shape"
   ]
  },
  {
   "cell_type": "code",
   "execution_count": 48,
   "id": "43eee536",
   "metadata": {},
   "outputs": [
    {
     "name": "stdout",
     "output_type": "stream",
     "text": [
      "(1, 2, 2)\n"
     ]
    }
   ],
   "source": [
    "arr5=np.array([[[1,2],[3,4]]])\n",
    "print(arr5.shape)"
   ]
  },
  {
   "cell_type": "code",
   "execution_count": 49,
   "id": "7dba3634",
   "metadata": {},
   "outputs": [
    {
     "name": "stdout",
     "output_type": "stream",
     "text": [
      "(1, 1, 1, 1, 1, 3, 3)\n"
     ]
    }
   ],
   "source": [
    "k=np.array([[[[[[[2,3,4],[45,78,90],[50,90,89]]]]]]])\n",
    "print(k.shape)\n",
    "\n"
   ]
  },
  {
   "cell_type": "code",
   "execution_count": 50,
   "id": "55f71205",
   "metadata": {},
   "outputs": [
    {
     "data": {
      "text/plain": [
       "(1, 1, 1, 1, 1, 1, 1, 4)"
      ]
     },
     "execution_count": 50,
     "metadata": {},
     "output_type": "execute_result"
    }
   ],
   "source": [
    "a=np.array([[[[[[[[\"pizza\",\"sweetcorn\",\"noodles\",\"burger\"]]]]]]]])\n",
    "a.shape"
   ]
  },
  {
   "cell_type": "markdown",
   "id": "492684ca",
   "metadata": {},
   "source": [
    "# 25/10/22"
   ]
  },
  {
   "cell_type": "code",
   "execution_count": 7,
   "id": "213f8edc",
   "metadata": {},
   "outputs": [],
   "source": [
    "import numpy as np"
   ]
  },
  {
   "cell_type": "code",
   "execution_count": 13,
   "id": "c3c59880",
   "metadata": {},
   "outputs": [
    {
     "data": {
      "text/plain": [
       "(2, 4, 2)"
      ]
     },
     "execution_count": 13,
     "metadata": {},
     "output_type": "execute_result"
    }
   ],
   "source": [
    "a1=np.array([[[2,3],[4,5],[6,7],[8,9]],[[10,11],[12,13],[14,15],[16,17]]])\n",
    "a1.shape"
   ]
  },
  {
   "cell_type": "code",
   "execution_count": 10,
   "id": "33bca826",
   "metadata": {},
   "outputs": [
    {
     "data": {
      "text/plain": [
       "array([[[[30, 66, 70],\n",
       "         [23, 66, 22],\n",
       "         [33, 55, 66]]]])"
      ]
     },
     "execution_count": 10,
     "metadata": {},
     "output_type": "execute_result"
    }
   ],
   "source": [
    "a1=np.array([[[[30,66,70],[23,66,22],[33,55,66]]]])\n",
    "a1"
   ]
  },
  {
   "cell_type": "code",
   "execution_count": 11,
   "id": "7aa55ea5",
   "metadata": {},
   "outputs": [
    {
     "data": {
      "text/plain": [
       "(1, 1, 3, 3)"
      ]
     },
     "execution_count": 11,
     "metadata": {},
     "output_type": "execute_result"
    }
   ],
   "source": [
    "a1.shape"
   ]
  },
  {
   "cell_type": "code",
   "execution_count": 15,
   "id": "dfb82a32",
   "metadata": {},
   "outputs": [
    {
     "data": {
      "text/plain": [
       "(1, 1, 3, 3, 3)"
      ]
     },
     "execution_count": 15,
     "metadata": {},
     "output_type": "execute_result"
    }
   ],
   "source": [
    "#create an array of 1,1,3,3,3\n",
    "a=np.array([[[[[2,3,4],[1,2,3],[2,3,4]],[[3,4,5],[2,3,4],[2,4,5]],[[3,4,5],[4,5,6],[5,7,8]]]]])\n",
    "a.shape"
   ]
  },
  {
   "cell_type": "code",
   "execution_count": 19,
   "id": "c258a267",
   "metadata": {},
   "outputs": [
    {
     "data": {
      "text/plain": [
       "5"
      ]
     },
     "execution_count": 19,
     "metadata": {},
     "output_type": "execute_result"
    }
   ],
   "source": [
    "a.ndim"
   ]
  },
  {
   "cell_type": "markdown",
   "id": "d90e93c4",
   "metadata": {},
   "source": [
    "# rank and dimensions are same"
   ]
  },
  {
   "cell_type": "markdown",
   "id": "d3438f30",
   "metadata": {},
   "source": [
    "# size of array : returns the no of elements across the axis"
   ]
  },
  {
   "cell_type": "code",
   "execution_count": 22,
   "id": "c4a84fe5",
   "metadata": {},
   "outputs": [
    {
     "name": "stdout",
     "output_type": "stream",
     "text": [
      "4\n",
      "4\n"
     ]
    }
   ],
   "source": [
    "a1=np.array([20,40,70,90])\n",
    "print(np.size(a1))\n",
    "print(np.size(a1,axis=0))"
   ]
  },
  {
   "cell_type": "code",
   "execution_count": 25,
   "id": "da2de500",
   "metadata": {},
   "outputs": [
    {
     "name": "stdout",
     "output_type": "stream",
     "text": [
      "8\n",
      "2\n",
      "4\n"
     ]
    }
   ],
   "source": [
    "a=np.array([[1,2,3,4],[5,6,7,8]])\n",
    "print(np.size(a)) #means 8 no of elements are present\n",
    "print(np.size(a,0))\n",
    "print(np.size(a,1))"
   ]
  },
  {
   "cell_type": "code",
   "execution_count": 28,
   "id": "3c3c41f2",
   "metadata": {},
   "outputs": [
    {
     "name": "stdout",
     "output_type": "stream",
     "text": [
      "16\n",
      "2\n",
      "2\n",
      "4\n"
     ]
    }
   ],
   "source": [
    "#3d-array\n",
    "a=np.array([[[1,2,3,4],[5,6,7,8]],[[1,2,3,4],[5,6,7,8]]])\n",
    "print(np.size(a))\n",
    "print(np.size(a,axis=0))\n",
    "print(np.size(a,axis=1))\n",
    "print(np.size(a,axis=2))"
   ]
  },
  {
   "cell_type": "code",
   "execution_count": 29,
   "id": "b84aa339",
   "metadata": {},
   "outputs": [
    {
     "ename": "IndexError",
     "evalue": "tuple index out of range",
     "output_type": "error",
     "traceback": [
      "\u001b[1;31m---------------------------------------------------------------------------\u001b[0m",
      "\u001b[1;31mIndexError\u001b[0m                                Traceback (most recent call last)",
      "Input \u001b[1;32mIn [29]\u001b[0m, in \u001b[0;36m<cell line: 1>\u001b[1;34m()\u001b[0m\n\u001b[1;32m----> 1\u001b[0m \u001b[38;5;28mprint\u001b[39m(\u001b[43mnp\u001b[49m\u001b[38;5;241;43m.\u001b[39;49m\u001b[43msize\u001b[49m\u001b[43m(\u001b[49m\u001b[43ma\u001b[49m\u001b[43m,\u001b[49m\u001b[43maxis\u001b[49m\u001b[38;5;241;43m=\u001b[39;49m\u001b[38;5;241;43m3\u001b[39;49m\u001b[43m)\u001b[49m)\n",
      "File \u001b[1;32m<__array_function__ internals>:5\u001b[0m, in \u001b[0;36msize\u001b[1;34m(*args, **kwargs)\u001b[0m\n",
      "File \u001b[1;32m~\\anaconda3\\lib\\site-packages\\numpy\\core\\fromnumeric.py:3211\u001b[0m, in \u001b[0;36msize\u001b[1;34m(a, axis)\u001b[0m\n\u001b[0;32m   3209\u001b[0m \u001b[38;5;28;01melse\u001b[39;00m:\n\u001b[0;32m   3210\u001b[0m     \u001b[38;5;28;01mtry\u001b[39;00m:\n\u001b[1;32m-> 3211\u001b[0m         \u001b[38;5;28;01mreturn\u001b[39;00m \u001b[43ma\u001b[49m\u001b[38;5;241;43m.\u001b[39;49m\u001b[43mshape\u001b[49m\u001b[43m[\u001b[49m\u001b[43maxis\u001b[49m\u001b[43m]\u001b[49m\n\u001b[0;32m   3212\u001b[0m     \u001b[38;5;28;01mexcept\u001b[39;00m \u001b[38;5;167;01mAttributeError\u001b[39;00m:\n\u001b[0;32m   3213\u001b[0m         \u001b[38;5;28;01mreturn\u001b[39;00m asarray(a)\u001b[38;5;241m.\u001b[39mshape[axis]\n",
      "\u001b[1;31mIndexError\u001b[0m: tuple index out of range"
     ]
    }
   ],
   "source": [
    "print(np.size(a,axis=3)) #tere is no third axis"
   ]
  },
  {
   "cell_type": "markdown",
   "id": "d76f724b",
   "metadata": {},
   "source": [
    "# 4. ITEMSIZE-represents memory occupied by each element in bytes"
   ]
  },
  {
   "cell_type": "markdown",
   "id": "2d4f3e63",
   "metadata": {},
   "source": [
    "## dtype-tells datatype of element"
   ]
  },
  {
   "cell_type": "code",
   "execution_count": 32,
   "id": "6624df7b",
   "metadata": {},
   "outputs": [
    {
     "name": "stdout",
     "output_type": "stream",
     "text": [
      "int32\n",
      "4\n",
      "12\n"
     ]
    }
   ],
   "source": [
    "l=[1,2,3]\n",
    "a=np.array(l)\n",
    "print(a.dtype) ## int32 means 4 bytes 4*8bits=32bits\n",
    "print(a.itemsize) ##itemsize tells how much memory a particular element is taking\n",
    "print(a.size*a.itemsize) ##total memory occupied by AN ARRAY"
   ]
  },
  {
   "cell_type": "code",
   "execution_count": 33,
   "id": "4a427a18",
   "metadata": {},
   "outputs": [
    {
     "name": "stdout",
     "output_type": "stream",
     "text": [
      "12\n"
     ]
    }
   ],
   "source": [
    "print(a.size*a.itemsize) ##total memory occupied by AN ARRAY"
   ]
  },
  {
   "cell_type": "markdown",
   "id": "d0cb14ed",
   "metadata": {},
   "source": [
    "## DType-by default float"
   ]
  },
  {
   "cell_type": "code",
   "execution_count": 35,
   "id": "3e991a2f",
   "metadata": {},
   "outputs": [
    {
     "name": "stdout",
     "output_type": "stream",
     "text": [
      "[[1. 1. 1.]\n",
      " [1. 1. 1.]]\n"
     ]
    },
    {
     "data": {
      "text/plain": [
       "dtype('float64')"
      ]
     },
     "execution_count": 35,
     "metadata": {},
     "output_type": "execute_result"
    }
   ],
   "source": [
    "a=np.ones((2,3))   ##ones is element and shape is (2,3)\n",
    "print(a)\n",
    "a.dtype   ## by default: float"
   ]
  },
  {
   "cell_type": "code",
   "execution_count": 36,
   "id": "8f9a390c",
   "metadata": {},
   "outputs": [
    {
     "name": "stdout",
     "output_type": "stream",
     "text": [
      "[[[1.]\n",
      "  [1.]\n",
      "  [1.]]\n",
      "\n",
      " [[1.]\n",
      "  [1.]\n",
      "  [1.]]]\n"
     ]
    }
   ],
   "source": [
    "a=np.ones((2,3,1))\n",
    "print(a)"
   ]
  },
  {
   "cell_type": "markdown",
   "id": "40f3ff01",
   "metadata": {},
   "source": [
    "# 6. astype: convert the existing dtype to another dtype"
   ]
  },
  {
   "cell_type": "code",
   "execution_count": 37,
   "id": "103edef5",
   "metadata": {},
   "outputs": [
    {
     "data": {
      "text/plain": [
       "array([[[1],\n",
       "        [1],\n",
       "        [1]],\n",
       "\n",
       "       [[1],\n",
       "        [1],\n",
       "        [1]]])"
      ]
     },
     "execution_count": 37,
     "metadata": {},
     "output_type": "execute_result"
    }
   ],
   "source": [
    "a1=a.astype(\"int\")   #float to int\n",
    "a1"
   ]
  },
  {
   "cell_type": "markdown",
   "id": "2bd71db4",
   "metadata": {},
   "source": [
    "# List vs Array"
   ]
  },
  {
   "cell_type": "markdown",
   "id": "23760099",
   "metadata": {},
   "source": [
    "### 1.element wise operation on array and we cannot perform that on list\n",
    "### 2. arrays are faster 3. array takes less memory 4. data stored in contigious memory "
   ]
  },
  {
   "cell_type": "code",
   "execution_count": 39,
   "id": "131e7e52",
   "metadata": {},
   "outputs": [
    {
     "name": "stdout",
     "output_type": "stream",
     "text": [
      "856\n",
      "4\n",
      "list takes : 85600 bytes\n",
      "array takes :  400 bytes\n"
     ]
    }
   ],
   "source": [
    "## proof of above statement\n",
    "import sys\n",
    "l=list(range(100))hb \n",
    "a=np.arange(100)\n",
    "print(sys.getsizeof(l))\n",
    "print(a.itemsize)\n",
    "print(\"list takes :\",sys.getsizeof(l)*len(l),\"bytes\")  ##ys.getsizeof(l) : size of each element in the list\n",
    "print(\"array takes : \",a.itemsize*a.size,\"bytes\" ) ## itemsize: size of each element in the array.\n",
    "\n"
   ]
  },
  {
   "cell_type": "markdown",
   "id": "88f13d32",
   "metadata": {},
   "source": [
    "## array indexing and slicing: in 1-d array"
   ]
  },
  {
   "cell_type": "code",
   "execution_count": 45,
   "id": "f625c7cb",
   "metadata": {},
   "outputs": [
    {
     "name": "stdout",
     "output_type": "stream",
     "text": [
      "1\n",
      "4\n",
      "[3 4]\n",
      "[2]\n"
     ]
    }
   ],
   "source": [
    "arr = np.array([1, 2, 3, 4])\n",
    "print(arr[0])\n",
    "print(arr[-1])\n",
    "print(arr[2:])\n",
    "print(arr[1:5:3])"
   ]
  },
  {
   "cell_type": "markdown",
   "id": "f3ac5004",
   "metadata": {},
   "source": [
    "## indexing and slicing in 2-d array"
   ]
  },
  {
   "cell_type": "code",
   "execution_count": 50,
   "id": "78889e76",
   "metadata": {},
   "outputs": [
    {
     "name": "stdout",
     "output_type": "stream",
     "text": [
      "[2 3 4 5 6]\n",
      "[20 30 40 50 90]\n",
      "40\n",
      "[50 90]\n"
     ]
    }
   ],
   "source": [
    "a=np.array([[2,3,4,5,6],[7,8,9,0,90],[20,30,40,50,90]])\n",
    "print(a[0]) #means first row,total 3 rows\n",
    "print(a[-1])\n",
    "print(a[-1][2])\n",
    "print(a[-1][3:])\n"
   ]
  },
  {
   "cell_type": "code",
   "execution_count": 54,
   "id": "a560b8eb",
   "metadata": {},
   "outputs": [
    {
     "name": "stdout",
     "output_type": "stream",
     "text": [
      "[ 3  8 30]\n"
     ]
    }
   ],
   "source": [
    "a=np.array([[2,3,4,5,6],[7,8,9,0,90],[20,30,40,50,90]])\n",
    "print(a[:,1])\n"
   ]
  },
  {
   "cell_type": "code",
   "execution_count": 55,
   "id": "bb817e48",
   "metadata": {},
   "outputs": [
    {
     "name": "stdout",
     "output_type": "stream",
     "text": [
      "[[ 3  6]\n",
      " [ 8 90]\n",
      " [30 90]]\n"
     ]
    }
   ],
   "source": [
    "print(a[:,1:5:3])"
   ]
  },
  {
   "cell_type": "code",
   "execution_count": 56,
   "id": "daa7b702",
   "metadata": {
    "scrolled": true
   },
   "outputs": [
    {
     "name": "stdout",
     "output_type": "stream",
     "text": [
      "[[ 2  5]\n",
      " [20 50]]\n"
     ]
    }
   ],
   "source": [
    "print(a[0:3:2,0:4:3])"
   ]
  },
  {
   "cell_type": "code",
   "execution_count": 58,
   "id": "4ead015f",
   "metadata": {},
   "outputs": [
    {
     "name": "stdout",
     "output_type": "stream",
     "text": [
      "[[ 2  3  4  5  6]\n",
      " [20 30 40 50 90]]\n"
     ]
    }
   ],
   "source": [
    "print(a[0:3:2,0:5])"
   ]
  },
  {
   "cell_type": "code",
   "execution_count": 59,
   "id": "bbee8f09",
   "metadata": {},
   "outputs": [
    {
     "name": "stdout",
     "output_type": "stream",
     "text": [
      "[[ 2  3  4  5  6]\n",
      " [20 30 40 50 90]]\n"
     ]
    }
   ],
   "source": [
    "print(a[0:3:2,:])"
   ]
  },
  {
   "cell_type": "code",
   "execution_count": 60,
   "id": "cb0f7b69",
   "metadata": {},
   "outputs": [
    {
     "name": "stdout",
     "output_type": "stream",
     "text": [
      "[[ 8  9]\n",
      " [30 40]]\n"
     ]
    }
   ],
   "source": [
    "print(a[1:3,1:3])"
   ]
  },
  {
   "cell_type": "code",
   "execution_count": 61,
   "id": "9fd7c16e",
   "metadata": {},
   "outputs": [
    {
     "name": "stdout",
     "output_type": "stream",
     "text": [
      "[[ 2  3  4  5  6]\n",
      " [ 7  8  9  0 90]\n",
      " [20 30 40 50 90]]\n",
      "[2 3 4 5 6]\n",
      "[ 7  8  9  0 90]\n",
      "[20 30 40 50 90]\n",
      "[20 30 40 50 90]\n",
      "4\n",
      "[ 9  0 90]\n",
      "7\n",
      "[ 4  9 40]\n",
      "[[ 4  5  6]\n",
      " [ 9  0 90]]\n",
      "[9]\n",
      "[[ 4  6]\n",
      " [40 90]]\n",
      "[[ 3  5]\n",
      " [30 50]]\n"
     ]
    }
   ],
   "source": [
    "\n",
    "a=np.array([[2,3,4,5,6],[7,8,9,0,90],[20,30,40,50,90]])  # 2d array  here , \n",
    "print(a)\n",
    "print(a[0]) #or print(a[-3]) means first row\n",
    "print(a[1]) #or print(a[-2]) means second row\n",
    "print(a[2]) #or print(a[-1]) means third row\n",
    "print(a[-1]) # or print(a[2])  means  last row\n",
    "print(a[0][2]) # fetch 4\n",
    "print(a[1][2:]) # 9,0,90\n",
    "print(a[-2][0])  # fetch 7\n",
    "print(a[:,2])  ## all rows with 2nd column  (discontinous manner)\n",
    "print(a[0:2,2:]) ## ist and 2nd rows with columns from 2nd(disconinous manner)\n",
    "print(a[1,2:3])\n",
    "print(a[0:3:2,2:5:2]) ## feth 4,6 40 ,90\n",
    "#print(a[[0,2],[1,3]])\n",
    "print(a[0:3:2,1:4:2]) ## fetch 3, 30 5 and 50\n",
    " \n"
   ]
  },
  {
   "cell_type": "code",
   "execution_count": 63,
   "id": "860fd814",
   "metadata": {},
   "outputs": [
    {
     "name": "stdout",
     "output_type": "stream",
     "text": [
      "['pizza' 'sweet corn' 'coffee' 'lemonade']\n",
      "sweet corn\n"
     ]
    }
   ],
   "source": [
    "a=np.array([[[[[[[[\"pizza\",\"sweet corn\",\"coffee\",\"lemonade\"]]]]]]]])\n",
    "print(a[0][0][0][0][0][0][0])\n",
    "print(a[0][0][0][0][0][0][0][1])\n"
   ]
  },
  {
   "cell_type": "code",
   "execution_count": 64,
   "id": "edf518c2",
   "metadata": {},
   "outputs": [
    {
     "name": "stdout",
     "output_type": "stream",
     "text": [
      "['sweet corn' 'coffee' 'lemonade']\n"
     ]
    }
   ],
   "source": [
    "print(a[0][0][0][0][0][0][0][1:])"
   ]
  },
  {
   "cell_type": "code",
   "execution_count": 68,
   "id": "9e221acc",
   "metadata": {},
   "outputs": [
    {
     "name": "stdout",
     "output_type": "stream",
     "text": [
      "98\n",
      "98\n",
      "[ 3 50]\n"
     ]
    }
   ],
   "source": [
    "a=np.array([[[[[1,2,3,50,],[4,5,6,90],[7,8,9,99],[11,12,3,98]]]]])\n",
    "print(a[0][0][0][-1][-1])\n",
    "print(a[0][0][0][3][-1])\n",
    "print(a[0][0][0][0][2:])"
   ]
  },
  {
   "cell_type": "code",
   "execution_count": 75,
   "id": "25086d1a",
   "metadata": {},
   "outputs": [
    {
     "name": "stdout",
     "output_type": "stream",
     "text": [
      "19\n"
     ]
    }
   ],
   "source": [
    "a=np.array([[[[1,2,3,4,5],[6,7,8,9,0],[11,12,13,14,15],[16,17,18,19,20]]]])\n",
    "print(a[0][0][-1][-2])"
   ]
  },
  {
   "cell_type": "code",
   "execution_count": 73,
   "id": "b5c1e256",
   "metadata": {},
   "outputs": [
    {
     "name": "stdout",
     "output_type": "stream",
     "text": [
      "[13 15]\n"
     ]
    }
   ],
   "source": [
    "print(a[0][0][2][2::2])"
   ]
  },
  {
   "cell_type": "code",
   "execution_count": 74,
   "id": "27c4ee51",
   "metadata": {},
   "outputs": [
    {
     "name": "stdout",
     "output_type": "stream",
     "text": [
      "[13 15]\n"
     ]
    }
   ],
   "source": [
    "print(a[0][0][2][2:5:2])"
   ]
  },
  {
   "cell_type": "code",
   "execution_count": 87,
   "id": "33db20bd",
   "metadata": {},
   "outputs": [
    {
     "name": "stdout",
     "output_type": "stream",
     "text": [
      "[7 8 9]\n"
     ]
    }
   ],
   "source": [
    "arr = np.array([[[1, 2, 3], [4, 5, 6]], [[7, 8, 9], [10, 11, 12]]])\n",
    "print(arr[1][0])\n"
   ]
  },
  {
   "cell_type": "code",
   "execution_count": 86,
   "id": "55064273",
   "metadata": {},
   "outputs": [
    {
     "name": "stdout",
     "output_type": "stream",
     "text": [
      "[[ 8  9]\n",
      " [11 12]]\n"
     ]
    }
   ],
   "source": [
    "print(arr[1][:,1:3])"
   ]
  },
  {
   "cell_type": "code",
   "execution_count": 93,
   "id": "14cceed0",
   "metadata": {},
   "outputs": [
    {
     "name": "stdout",
     "output_type": "stream",
     "text": [
      "[11 12]\n"
     ]
    }
   ],
   "source": [
    "print(arr[1][1][1:3])"
   ]
  },
  {
   "cell_type": "markdown",
   "id": "d0d37032",
   "metadata": {},
   "source": [
    "# indexing with boolean: from EDA point of view"
   ]
  },
  {
   "cell_type": "code",
   "execution_count": 2,
   "id": "5d0b35bb",
   "metadata": {},
   "outputs": [
    {
     "data": {
      "text/plain": [
       "array([[ 20,  30,  60],\n",
       "       [ 40,  80,  90],\n",
       "       [ 70,  90, 100]])"
      ]
     },
     "execution_count": 2,
     "metadata": {},
     "output_type": "execute_result"
    }
   ],
   "source": [
    "import numpy as np\n",
    "a=np.array([[20,30,60],[40,80,90],[70,90,100]])\n",
    "a"
   ]
  },
  {
   "cell_type": "code",
   "execution_count": 8,
   "id": "4acd7099",
   "metadata": {},
   "outputs": [
    {
     "data": {
      "text/plain": [
       "array([20, 30])"
      ]
     },
     "execution_count": 8,
     "metadata": {},
     "output_type": "execute_result"
    }
   ],
   "source": [
    "a[a<40]  ##masking phenomenon"
   ]
  },
  {
   "cell_type": "code",
   "execution_count": 9,
   "id": "725f1808",
   "metadata": {},
   "outputs": [
    {
     "data": {
      "text/plain": [
       "array([[ True,  True, False],\n",
       "       [False, False, False],\n",
       "       [False, False, False]])"
      ]
     },
     "execution_count": 9,
     "metadata": {},
     "output_type": "execute_result"
    }
   ],
   "source": [
    "x=a<40\n",
    "x          #OR"
   ]
  },
  {
   "cell_type": "code",
   "execution_count": 10,
   "id": "b95ac57f",
   "metadata": {},
   "outputs": [
    {
     "data": {
      "text/plain": [
       "array([20, 30])"
      ]
     },
     "execution_count": 10,
     "metadata": {},
     "output_type": "execute_result"
    }
   ],
   "source": [
    "a[x]"
   ]
  },
  {
   "cell_type": "code",
   "execution_count": 11,
   "id": "d68569bd",
   "metadata": {},
   "outputs": [
    {
     "data": {
      "text/plain": [
       "array([['85', '85', 'nothing'],\n",
       "       ['nothing', 'nothing', 'nothing'],\n",
       "       ['nothing', 'nothing', 'nothing']], dtype='<U11')"
      ]
     },
     "execution_count": 11,
     "metadata": {},
     "output_type": "execute_result"
    }
   ],
   "source": [
    "np.where(a<40,85,\"nothing\")   ##to find index "
   ]
  },
  {
   "cell_type": "markdown",
   "id": "c31fb3f4",
   "metadata": {},
   "source": [
    "## double/multiple condition"
   ]
  },
  {
   "cell_type": "code",
   "execution_count": 13,
   "id": "4a88b689",
   "metadata": {},
   "outputs": [
    {
     "data": {
      "text/plain": [
       "array([[False, False,  True],\n",
       "       [False,  True,  True],\n",
       "       [ True,  True,  True]])"
      ]
     },
     "execution_count": 13,
     "metadata": {},
     "output_type": "execute_result"
    }
   ],
   "source": [
    "(a%2==0)&(a>40)  ##return in boolean"
   ]
  },
  {
   "cell_type": "code",
   "execution_count": 12,
   "id": "93ad1e0b",
   "metadata": {},
   "outputs": [
    {
     "data": {
      "text/plain": [
       "array([ 60,  80,  90,  70,  90, 100])"
      ]
     },
     "execution_count": 12,
     "metadata": {},
     "output_type": "execute_result"
    }
   ],
   "source": [
    "a[(a%2==0)&(a>40)] ##doing masking"
   ]
  },
  {
   "cell_type": "code",
   "execution_count": 3,
   "id": "2d0db455",
   "metadata": {},
   "outputs": [
    {
     "name": "stdout",
     "output_type": "stream",
     "text": [
      "[ 3 50]\n"
     ]
    }
   ],
   "source": [
    "a=[[[[2,3,4,5],[40,50,60,90]]]]\n",
    "a=np.array(a)\n",
    "print(a[0][0][:,1])\n"
   ]
  },
  {
   "cell_type": "code",
   "execution_count": 3,
   "id": "1adc061a",
   "metadata": {},
   "outputs": [
    {
     "name": "stdout",
     "output_type": "stream",
     "text": [
      "[ 2 40]\n"
     ]
    }
   ],
   "source": [
    "import numpy as np\n",
    "a=[\n",
    "    [\n",
    "        [\n",
    "            [2,3,4,5],[40,50,60,90]\n",
    "        ]\n",
    "    ]\n",
    "]\n",
    "a=np.array(a)\n",
    "print(a[0][0][[0,1],[0,0]])  ##to fetch 2 40"
   ]
  },
  {
   "cell_type": "code",
   "execution_count": 30,
   "id": "320d3f95",
   "metadata": {},
   "outputs": [
    {
     "data": {
      "text/plain": [
       "array([60, 90])"
      ]
     },
     "execution_count": 30,
     "metadata": {},
     "output_type": "execute_result"
    }
   ],
   "source": [
    "a[0][0][1,2:]"
   ]
  },
  {
   "cell_type": "code",
   "execution_count": 33,
   "id": "6dab1336",
   "metadata": {},
   "outputs": [
    {
     "data": {
      "text/plain": [
       "array([ 3, 90])"
      ]
     },
     "execution_count": 33,
     "metadata": {},
     "output_type": "execute_result"
    }
   ],
   "source": [
    "a[0][0][[0,1],[1,3]]  #oth row and 1st row for fetching 3 and 90 and it's for axis and after that gives indexing for condition and put in []"
   ]
  },
  {
   "cell_type": "code",
   "execution_count": 35,
   "id": "ae4d81d5",
   "metadata": {},
   "outputs": [
    {
     "data": {
      "text/plain": [
       "array([ 4, 40])"
      ]
     },
     "execution_count": 35,
     "metadata": {},
     "output_type": "execute_result"
    }
   ],
   "source": [
    "a[0][0][[0,1],[2,0]]"
   ]
  },
  {
   "cell_type": "code",
   "execution_count": 38,
   "id": "15ed9211",
   "metadata": {},
   "outputs": [
    {
     "data": {
      "text/plain": [
       "array([ 2, 90])"
      ]
     },
     "execution_count": 38,
     "metadata": {},
     "output_type": "execute_result"
    }
   ],
   "source": [
    "a[0][0][[0,1],[0,3]]"
   ]
  },
  {
   "cell_type": "code",
   "execution_count": null,
   "id": "1cac8a72",
   "metadata": {},
   "outputs": [],
   "source": []
  },
  {
   "cell_type": "markdown",
   "id": "c0904644",
   "metadata": {},
   "source": [
    "# iterations"
   ]
  },
  {
   "cell_type": "code",
   "execution_count": 40,
   "id": "fe60fbf9",
   "metadata": {},
   "outputs": [
    {
     "name": "stdout",
     "output_type": "stream",
     "text": [
      "1\n",
      "2\n",
      "3\n",
      "4\n"
     ]
    }
   ],
   "source": [
    "a=np.array([1,2,3,4])\n",
    "for i in a:\n",
    "    print(i)"
   ]
  },
  {
   "cell_type": "markdown",
   "id": "fcb1a7a9",
   "metadata": {},
   "source": [
    "### np.nditer use this instead of n dim nested loops"
   ]
  },
  {
   "cell_type": "code",
   "execution_count": 41,
   "id": "165bb854",
   "metadata": {},
   "outputs": [
    {
     "name": "stdout",
     "output_type": "stream",
     "text": [
      "[[2 3 4]\n",
      " [7 8 9]]\n",
      "2\n",
      "3\n",
      "4\n",
      "7\n",
      "8\n",
      "9\n"
     ]
    }
   ],
   "source": [
    "a=np.array([[2,3,4],[7,8,9]])\n",
    "print(a)\n",
    "for i in np.nditer(a):\n",
    "    print(i)"
   ]
  },
  {
   "cell_type": "markdown",
   "id": "12656d0c",
   "metadata": {},
   "source": [
    "# copy and view`"
   ]
  },
  {
   "cell_type": "markdown",
   "id": "b71fc9f0",
   "metadata": {},
   "source": [
    "## the main differene is that the copy is a new array while view  is just a view of original array"
   ]
  },
  {
   "cell_type": "code",
   "execution_count": 43,
   "id": "82a56376",
   "metadata": {},
   "outputs": [
    {
     "name": "stdout",
     "output_type": "stream",
     "text": [
      "copy---- [ 2  3  4 70]\n",
      "original array-- [2 3 4 5]\n"
     ]
    }
   ],
   "source": [
    "a=np.array([2,3,4,5])\n",
    "a1=a.copy() ## deep copy\n",
    "a1[3]=70\n",
    "print(\"copy----\",a1)\n",
    "print(\"original array--\",a) # deep copy or copy does not show any changes in original array"
   ]
  },
  {
   "cell_type": "code",
   "execution_count": 44,
   "id": "2a334bee",
   "metadata": {},
   "outputs": [
    {
     "name": "stdout",
     "output_type": "stream",
     "text": [
      "copy---- [ 2  3  4 70]\n",
      "original array-- [ 2  3  4 70]\n"
     ]
    }
   ],
   "source": [
    "a=np.array([2,3,4,5])\n",
    "a1=a.view() ## shallow copy\n",
    "a1[3]=70\n",
    "print(\"copy----\",a1)\n",
    "print(\"original array--\",a)  ## view(shallow copy) also show changes in original array"
   ]
  },
  {
   "cell_type": "code",
   "execution_count": 45,
   "id": "6f07b2cd",
   "metadata": {},
   "outputs": [
    {
     "name": "stdout",
     "output_type": "stream",
     "text": [
      "[  2   3 700  70]\n",
      "[  2   3 700  70]\n"
     ]
    }
   ],
   "source": [
    "a2=a   #implicit changes or it's viewing this in view\n",
    "a2[2]=\"700\"  ##implicitely view\n",
    "print(a2)\n",
    "print(a)"
   ]
  },
  {
   "cell_type": "code",
   "execution_count": 47,
   "id": "84241ab2",
   "metadata": {},
   "outputs": [
    {
     "name": "stdout",
     "output_type": "stream",
     "text": [
      "[  1   2 700]\n",
      "[1 2 3]\n"
     ]
    }
   ],
   "source": [
    "a=np.array([1,2,3])\n",
    "a2=a.copy()\n",
    "a2[2]=\"700\"\n",
    "print(a2)\n",
    "print(a)"
   ]
  },
  {
   "cell_type": "markdown",
   "id": "3c67f8ee",
   "metadata": {},
   "source": [
    "# shape manipulation: reshape and resize"
   ]
  },
  {
   "cell_type": "markdown",
   "id": "7bb00778",
   "metadata": {},
   "source": [
    "### reshape behaves like deep copy while resize behaves like shallow copy"
   ]
  },
  {
   "cell_type": "code",
   "execution_count": 48,
   "id": "02b85806",
   "metadata": {},
   "outputs": [
    {
     "name": "stdout",
     "output_type": "stream",
     "text": [
      "(2, 6)\n"
     ]
    }
   ],
   "source": [
    "x=np.array([[1,2,3,4,5,6],[7,8,9,10,11,12]])\n",
    "print(x.shape)"
   ]
  },
  {
   "cell_type": "markdown",
   "id": "f1a2d9c1",
   "metadata": {},
   "source": [
    "### how we represents (2,6) as (6,2),(3,4),(4,3),(12,1),(1,12)"
   ]
  },
  {
   "cell_type": "code",
   "execution_count": 49,
   "id": "e6bc177a",
   "metadata": {},
   "outputs": [
    {
     "name": "stdout",
     "output_type": "stream",
     "text": [
      "deep copy-- [[ 1  2  3  4  5  6  7  8  9 10 11 12]]\n",
      "original--- [[ 1  2  3  4  5  6]\n",
      " [ 7  8  9 10 11 12]]\n"
     ]
    }
   ],
   "source": [
    "x1=x.reshape(1,12)\n",
    "print(\"deep copy--\",x1)\n",
    "print(\"original---\",x)"
   ]
  },
  {
   "cell_type": "code",
   "execution_count": 50,
   "id": "00bf6bf7",
   "metadata": {},
   "outputs": [
    {
     "name": "stdout",
     "output_type": "stream",
     "text": [
      "deep copy-- [[ 1]\n",
      " [ 2]\n",
      " [ 3]\n",
      " [ 4]\n",
      " [ 5]\n",
      " [ 6]\n",
      " [ 7]\n",
      " [ 8]\n",
      " [ 9]\n",
      " [10]\n",
      " [11]\n",
      " [12]]\n",
      "original--- [[ 1  2  3  4  5  6]\n",
      " [ 7  8  9 10 11 12]]\n"
     ]
    }
   ],
   "source": [
    "x1=x.reshape(12,1)\n",
    "print(\"deep copy--\",x1)\n",
    "print(\"original---\",x)"
   ]
  },
  {
   "cell_type": "code",
   "execution_count": 51,
   "id": "61817fbb",
   "metadata": {},
   "outputs": [
    {
     "name": "stdout",
     "output_type": "stream",
     "text": [
      "deep copy-- [[ 1  2  3  4]\n",
      " [ 5  6  7  8]\n",
      " [ 9 10 11 12]]\n",
      "original--- [[ 1  2  3  4  5  6]\n",
      " [ 7  8  9 10 11 12]]\n"
     ]
    }
   ],
   "source": [
    "x1=x.reshape(3,4)\n",
    "print(\"deep copy--\",x1)\n",
    "print(\"original---\",x)"
   ]
  },
  {
   "cell_type": "code",
   "execution_count": 52,
   "id": "58cda980",
   "metadata": {},
   "outputs": [
    {
     "name": "stdout",
     "output_type": "stream",
     "text": [
      "deep copy-- [[ 1  2  3]\n",
      " [ 4  5  6]\n",
      " [ 7  8  9]\n",
      " [10 11 12]]\n",
      "original--- [[ 1  2  3  4  5  6]\n",
      " [ 7  8  9 10 11 12]]\n"
     ]
    }
   ],
   "source": [
    "x1=x.reshape(4,3)\n",
    "print(\"deep copy--\",x1)\n",
    "print(\"original---\",x)"
   ]
  },
  {
   "cell_type": "code",
   "execution_count": 53,
   "id": "3703b642",
   "metadata": {},
   "outputs": [
    {
     "name": "stdout",
     "output_type": "stream",
     "text": [
      "deep copy-- [[ 1  2]\n",
      " [ 3  4]\n",
      " [ 5  6]\n",
      " [ 7  8]\n",
      " [ 9 10]\n",
      " [11 12]]\n",
      "original--- [[ 1  2  3  4  5  6]\n",
      " [ 7  8  9 10 11 12]]\n"
     ]
    }
   ],
   "source": [
    "x1=x.reshape(6,2)\n",
    "print(\"deep copy--\",x1)\n",
    "print(\"original---\",x)"
   ]
  },
  {
   "cell_type": "markdown",
   "id": "c5549a54",
   "metadata": {},
   "source": [
    "# resize-changes in original and in copy returns none"
   ]
  },
  {
   "cell_type": "code",
   "execution_count": 54,
   "id": "f1c1830e",
   "metadata": {},
   "outputs": [
    {
     "name": "stdout",
     "output_type": "stream",
     "text": [
      "deep copy-- None\n",
      "original--- [[ 1  2  3  4  5  6  7  8  9 10 11 12]]\n"
     ]
    }
   ],
   "source": [
    "x1=x.resize(1,12)\n",
    "print(\"deep copy--\",x1)\n",
    "print(\"original---\",x)"
   ]
  },
  {
   "cell_type": "markdown",
   "id": "a72932db",
   "metadata": {},
   "source": [
    "## can we reshape into any shape?\n",
    "## as long as elements are same we can reshape into any shape otherwise not"
   ]
  },
  {
   "cell_type": "code",
   "execution_count": 58,
   "id": "b3ec37a8",
   "metadata": {},
   "outputs": [
    {
     "name": "stdout",
     "output_type": "stream",
     "text": [
      "[1 2 3 4 5 6 7 8]\n",
      "[[[1 2]\n",
      "  [3 4]]\n",
      "\n",
      " [[5 6]\n",
      "  [7 8]]]\n",
      "[[[1 2]\n",
      "  [3 4]]\n",
      "\n",
      " [[5 6]\n",
      "  [7 8]]]\n",
      "[[[1 2]\n",
      "  [3 4]]\n",
      "\n",
      " [[5 6]\n",
      "  [7 8]]]\n"
     ]
    }
   ],
   "source": [
    "arr=np.array([1,2,3,4,5,6,7,8])\n",
    "print(arr)\n",
    "newarr=arr.reshape(2,2,-1)\n",
    "newarr1=arr.reshape(2,-1,2)\n",
    "newarr2=arr.reshape(-1,2,2)\n",
    "print(newarr)\n",
    "print(newarr1)\n",
    "print(newarr2)"
   ]
  },
  {
   "cell_type": "markdown",
   "id": "80312638",
   "metadata": {},
   "source": [
    "# Flattening the arrays: converting a multidimensional array into a 1D array"
   ]
  },
  {
   "cell_type": "markdown",
   "id": "19157ccc",
   "metadata": {},
   "source": [
    "## nd array to 1-d array\n",
    "1.reshape\n",
    "2. flatten-treates as deep copy\n",
    "3.ravel-shallow copy"
   ]
  },
  {
   "cell_type": "code",
   "execution_count": 60,
   "id": "445f704f",
   "metadata": {},
   "outputs": [
    {
     "name": "stdout",
     "output_type": "stream",
     "text": [
      "1-D--- [1 2 3 4 5 6]\n",
      "2-D--- [[1 2 3]\n",
      " [4 5 6]]\n"
     ]
    }
   ],
   "source": [
    "arr=np.array([[1,2,3],[4,5,6]])  ##2-D\n",
    "arr1=arr.ravel()\n",
    "print(\"1-D---\",arr1)\n",
    "print(\"2-D---\",arr)"
   ]
  },
  {
   "cell_type": "code",
   "execution_count": 61,
   "id": "f5f285d9",
   "metadata": {
    "scrolled": true
   },
   "outputs": [
    {
     "name": "stdout",
     "output_type": "stream",
     "text": [
      "ravel shalow copy-- [  1   2   3 700   5   6]\n",
      "original-- [[  1   2   3]\n",
      " [700   5   6]]\n"
     ]
    }
   ],
   "source": [
    "arr1[3]=700\n",
    "print(\"ravel shalow copy--\",arr1)\n",
    "print(\"original--\",arr)"
   ]
  },
  {
   "cell_type": "markdown",
   "id": "e5636b82",
   "metadata": {},
   "source": [
    "## will not use if we do not need any changes in original copy"
   ]
  },
  {
   "cell_type": "code",
   "execution_count": 62,
   "id": "2acb6617",
   "metadata": {},
   "outputs": [
    {
     "name": "stdout",
     "output_type": "stream",
     "text": [
      "1-D--- [1 2 3 4 5 6]\n",
      "2-D--- [[1 2 3]\n",
      " [4 5 6]]\n"
     ]
    }
   ],
   "source": [
    "arr=np.array([[1,2,3],[4,5,6]])  ##2-D\n",
    "arr1=arr.flatten()\n",
    "print(\"1-D---\",arr1)\n",
    "print(\"2-D---\",arr)"
   ]
  },
  {
   "cell_type": "code",
   "execution_count": 64,
   "id": "f55c2f8b",
   "metadata": {},
   "outputs": [
    {
     "name": "stdout",
     "output_type": "stream",
     "text": [
      "flatten deep copy-- [  1   2   3 700   5   6]\n",
      "original-- [[1 2 3]\n",
      " [4 5 6]]\n"
     ]
    }
   ],
   "source": [
    "arr1[3]=700\n",
    "print(\"flatten deep copy--\",arr1)\n",
    "print(\"original--\",arr)  ##no changes in original copy using flatten"
   ]
  },
  {
   "cell_type": "code",
   "execution_count": 65,
   "id": "43aa9c43",
   "metadata": {},
   "outputs": [
    {
     "name": "stdout",
     "output_type": "stream",
     "text": [
      "1-D--- [1 2 3 4 5 6]\n",
      "2-D--- [[1 2 3]\n",
      " [4 5 6]]\n"
     ]
    }
   ],
   "source": [
    "arr=np.array([[1,2,3],[4,5,6]])  ##2-D\n",
    "arr1=arr.reshape(-1)\n",
    "print(\"1-D---\",arr1)\n",
    "print(\"2-D---\",arr)"
   ]
  },
  {
   "cell_type": "markdown",
   "id": "1f8956de",
   "metadata": {},
   "source": [
    "# arange()-generates the sequence of array"
   ]
  },
  {
   "cell_type": "markdown",
   "id": "8fede16f",
   "metadata": {},
   "source": [
    "# we use range() to create sequence of list"
   ]
  },
  {
   "cell_type": "code",
   "execution_count": 67,
   "id": "e80d9f1d",
   "metadata": {},
   "outputs": [
    {
     "name": "stdout",
     "output_type": "stream",
     "text": [
      "[ 1  2  3  4  5  6  7  8  9 10]\n",
      "[1 3 5 7 9]\n"
     ]
    }
   ],
   "source": [
    "a=np.arange(1,11)\n",
    "print(a)\n",
    "a1=np.arange(1,11,2)\n",
    "print(a1)"
   ]
  },
  {
   "cell_type": "code",
   "execution_count": 4,
   "id": "ead4aca5",
   "metadata": {},
   "outputs": [
    {
     "ename": "TypeError",
     "evalue": "arange() requires stop to be specified.",
     "output_type": "error",
     "traceback": [
      "\u001b[1;31m---------------------------------------------------------------------------\u001b[0m",
      "\u001b[1;31mTypeError\u001b[0m                                 Traceback (most recent call last)",
      "Input \u001b[1;32mIn [4]\u001b[0m, in \u001b[0;36m<cell line: 1>\u001b[1;34m()\u001b[0m\n\u001b[1;32m----> 1\u001b[0m a2\u001b[38;5;241m=\u001b[39m\u001b[43mnp\u001b[49m\u001b[38;5;241;43m.\u001b[39;49m\u001b[43marange\u001b[49m\u001b[43m(\u001b[49m\u001b[43m)\u001b[49m\n",
      "\u001b[1;31mTypeError\u001b[0m: arange() requires stop to be specified."
     ]
    }
   ],
   "source": [
    "a2=np.arange()"
   ]
  },
  {
   "cell_type": "markdown",
   "id": "2a165e2c",
   "metadata": {},
   "source": [
    "# linspace(start,end,number): return evenly spaced numbers over a specified interval and no is total no of elemnts"
   ]
  },
  {
   "cell_type": "code",
   "execution_count": 68,
   "id": "d1c9c9ba",
   "metadata": {},
   "outputs": [
    {
     "data": {
      "text/plain": [
       "array([-30, -20, -10,   0,  10,  20])"
      ]
     },
     "execution_count": 68,
     "metadata": {},
     "output_type": "execute_result"
    }
   ],
   "source": [
    "a=np.arange(-30,30,10)\n",
    "a"
   ]
  },
  {
   "cell_type": "code",
   "execution_count": 69,
   "id": "4310aaef",
   "metadata": {},
   "outputs": [
    {
     "data": {
      "text/plain": [
       "array([-30.        , -23.33333333, -16.66666667, -10.        ,\n",
       "        -3.33333333,   3.33333333,  10.        ,  16.66666667,\n",
       "        23.33333333,  30.        ])"
      ]
     },
     "execution_count": 69,
     "metadata": {},
     "output_type": "execute_result"
    }
   ],
   "source": [
    "a=np.linspace(-30,30,10)  #calculate stepsize itself\n",
    "a"
   ]
  },
  {
   "cell_type": "markdown",
   "id": "26b60b86",
   "metadata": {},
   "source": [
    "# logspace()"
   ]
  },
  {
   "cell_type": "code",
   "execution_count": 72,
   "id": "70a1ce7d",
   "metadata": {},
   "outputs": [
    {
     "data": {
      "text/plain": [
       "array([1.00000000e-30, 4.64158883e-24, 2.15443469e-17, 1.00000000e-10,\n",
       "       4.64158883e-04, 2.15443469e+03, 1.00000000e+10, 4.64158883e+16,\n",
       "       2.15443469e+23, 1.00000000e+30])"
      ]
     },
     "execution_count": 72,
     "metadata": {},
     "output_type": "execute_result"
    }
   ],
   "source": [
    "a=np.logspace(-30,30,10) #generates logvalue of corresponding element of linspace\n",
    "a"
   ]
  },
  {
   "cell_type": "markdown",
   "id": "83754a80",
   "metadata": {},
   "source": [
    "# 27/10/22"
   ]
  },
  {
   "cell_type": "code",
   "execution_count": 4,
   "id": "d1db7b8c",
   "metadata": {},
   "outputs": [
    {
     "name": "stdout",
     "output_type": "stream",
     "text": [
      "[ 3 60]\n"
     ]
    }
   ],
   "source": [
    "import numpy as np\n",
    "a=[[[[2,3,4,5],[40,50,60,90]]]]\n",
    "a=np.array(a)\n",
    "print(a[0][0][[0,1],[1,2]])"
   ]
  },
  {
   "cell_type": "code",
   "execution_count": 6,
   "id": "211b4ffd",
   "metadata": {},
   "outputs": [],
   "source": [
    "import numpy as np"
   ]
  },
  {
   "cell_type": "code",
   "execution_count": 7,
   "id": "946f4f44",
   "metadata": {},
   "outputs": [
    {
     "name": "stdout",
     "output_type": "stream",
     "text": [
      "[ 3  5  7  9 11 13 15 17 19 21 23 25 27 29]\n"
     ]
    }
   ],
   "source": [
    "a=np.arange(3,30,2)\n",
    "print(a)"
   ]
  },
  {
   "cell_type": "code",
   "execution_count": 8,
   "id": "7a7e1468",
   "metadata": {},
   "outputs": [
    {
     "data": {
      "text/plain": [
       "array([13, 15, 21, 29])"
      ]
     },
     "execution_count": 8,
     "metadata": {},
     "output_type": "execute_result"
    }
   ],
   "source": [
    "a[[5,6,9,-1]]  ##fancy indexing/advance indexing"
   ]
  },
  {
   "cell_type": "markdown",
   "id": "646acf3a",
   "metadata": {},
   "source": [
    "### some arrays are used for initialization purpose\n"
   ]
  },
  {
   "cell_type": "markdown",
   "id": "3ba666c2",
   "metadata": {},
   "source": [
    "### 1. np.empty() 2.np.zeros() 3. np.ones()"
   ]
  },
  {
   "cell_type": "code",
   "execution_count": 7,
   "id": "8764fe0b",
   "metadata": {},
   "outputs": [
    {
     "data": {
      "text/plain": [
       "array([[0., 0., 0.],\n",
       "       [0., 0., 0.]])"
      ]
     },
     "execution_count": 7,
     "metadata": {},
     "output_type": "execute_result"
    }
   ],
   "source": [
    "import numpy as np\n",
    "a=np.empty([2,3])\n",
    "a"
   ]
  },
  {
   "cell_type": "code",
   "execution_count": 9,
   "id": "01c93d7e",
   "metadata": {},
   "outputs": [
    {
     "data": {
      "text/plain": [
       "array([[0, 0, 0]])"
      ]
     },
     "execution_count": 9,
     "metadata": {},
     "output_type": "execute_result"
    }
   ],
   "source": [
    "a=np.empty([1,3],dtype=\"int\")\n",
    "a"
   ]
  },
  {
   "cell_type": "code",
   "execution_count": 10,
   "id": "3143d34d",
   "metadata": {},
   "outputs": [
    {
     "name": "stdout",
     "output_type": "stream",
     "text": [
      "[[0. 0. 0.]\n",
      " [0. 0. 0.]\n",
      " [0. 0. 0.]]\n"
     ]
    }
   ],
   "source": [
    "arr=np.zeros((3,3))\n",
    "print(arr)"
   ]
  },
  {
   "cell_type": "code",
   "execution_count": 12,
   "id": "96341a06",
   "metadata": {},
   "outputs": [
    {
     "name": "stdout",
     "output_type": "stream",
     "text": [
      "[[0 0 0]\n",
      " [0 0 0]\n",
      " [0 0 0]]\n"
     ]
    }
   ],
   "source": [
    "arr=np.zeros((3,3),dtype=int)\n",
    "print(arr)"
   ]
  },
  {
   "cell_type": "code",
   "execution_count": 13,
   "id": "fb626d98",
   "metadata": {},
   "outputs": [
    {
     "name": "stdout",
     "output_type": "stream",
     "text": [
      "[[1. 1. 1.]\n",
      " [1. 1. 1.]\n",
      " [1. 1. 1.]]\n"
     ]
    }
   ],
   "source": [
    "arr=np.ones((3,3))\n",
    "print(arr)"
   ]
  },
  {
   "cell_type": "markdown",
   "id": "ec84a930",
   "metadata": {},
   "source": [
    "## numpy operations"
   ]
  },
  {
   "cell_type": "markdown",
   "id": "8f412421",
   "metadata": {},
   "source": [
    "## taking two arrays a1 and a2 as below:"
   ]
  },
  {
   "cell_type": "code",
   "execution_count": 14,
   "id": "083c573b",
   "metadata": {},
   "outputs": [
    {
     "data": {
      "text/plain": [
       "array([[1, 2, 3, 4],\n",
       "       [3, 4, 5, 6],\n",
       "       [7, 8, 9, 0]])"
      ]
     },
     "execution_count": 14,
     "metadata": {},
     "output_type": "execute_result"
    }
   ],
   "source": [
    "a1=np.array([[1,2,3,4],[3,4,5,6],[7,8,9,0]])\n",
    "a1"
   ]
  },
  {
   "cell_type": "code",
   "execution_count": 15,
   "id": "ca68ab59",
   "metadata": {},
   "outputs": [
    {
     "data": {
      "text/plain": [
       "array([[ 3, 20,  5,  4],\n",
       "       [ 3,  4, 50,  6],\n",
       "       [ 7,  8,  7,  0]])"
      ]
     },
     "execution_count": 15,
     "metadata": {},
     "output_type": "execute_result"
    }
   ],
   "source": [
    "a2=np.array([[3,20,5,4],[3,4,50,6],[7,8,7,0]])\n",
    "a2"
   ]
  },
  {
   "cell_type": "code",
   "execution_count": 16,
   "id": "079ca2bc",
   "metadata": {},
   "outputs": [
    {
     "data": {
      "text/plain": [
       "array([[ 4, 22,  8,  8],\n",
       "       [ 6,  8, 55, 12],\n",
       "       [14, 16, 16,  0]])"
      ]
     },
     "execution_count": 16,
     "metadata": {},
     "output_type": "execute_result"
    }
   ],
   "source": [
    "a1+a2"
   ]
  },
  {
   "cell_type": "code",
   "execution_count": 17,
   "id": "4b197318",
   "metadata": {},
   "outputs": [
    {
     "data": {
      "text/plain": [
       "array([[ -2, -18,  -2,   0],\n",
       "       [  0,   0, -45,   0],\n",
       "       [  0,   0,   2,   0]])"
      ]
     },
     "execution_count": 17,
     "metadata": {},
     "output_type": "execute_result"
    }
   ],
   "source": [
    "a1-a2"
   ]
  },
  {
   "cell_type": "code",
   "execution_count": 18,
   "id": "789e54c4",
   "metadata": {},
   "outputs": [
    {
     "data": {
      "text/plain": [
       "array([[  3,  40,  15,  16],\n",
       "       [  9,  16, 250,  36],\n",
       "       [ 49,  64,  63,   0]])"
      ]
     },
     "execution_count": 18,
     "metadata": {},
     "output_type": "execute_result"
    }
   ],
   "source": [
    "a1*a2"
   ]
  },
  {
   "cell_type": "code",
   "execution_count": 21,
   "id": "0e8dfd38",
   "metadata": {},
   "outputs": [
    {
     "name": "stderr",
     "output_type": "stream",
     "text": [
      "C:\\Users\\rupan\\AppData\\Local\\Temp\\ipykernel_28484\\3705041958.py:1: RuntimeWarning: invalid value encountered in true_divide\n",
      "  a1/a2\n"
     ]
    },
    {
     "data": {
      "text/plain": [
       "array([[0.33333333, 0.1       , 0.6       , 1.        ],\n",
       "       [1.        , 1.        , 0.1       , 1.        ],\n",
       "       [1.        , 1.        , 1.28571429,        nan]])"
      ]
     },
     "execution_count": 21,
     "metadata": {},
     "output_type": "execute_result"
    }
   ],
   "source": [
    "a1/a2"
   ]
  },
  {
   "cell_type": "code",
   "execution_count": 22,
   "id": "591d0c88",
   "metadata": {},
   "outputs": [
    {
     "data": {
      "text/plain": [
       "array([[ 3,  6,  9, 12],\n",
       "       [ 9, 12, 15, 18],\n",
       "       [21, 24, 27,  0]])"
      ]
     },
     "execution_count": 22,
     "metadata": {},
     "output_type": "execute_result"
    }
   ],
   "source": [
    "a1*3"
   ]
  },
  {
   "cell_type": "code",
   "execution_count": 23,
   "id": "96c56340",
   "metadata": {},
   "outputs": [
    {
     "data": {
      "text/plain": [
       "array([[ True,  True,  True, False],\n",
       "       [False, False,  True, False],\n",
       "       [False, False, False, False]])"
      ]
     },
     "execution_count": 23,
     "metadata": {},
     "output_type": "execute_result"
    }
   ],
   "source": [
    "a1<a2"
   ]
  },
  {
   "cell_type": "code",
   "execution_count": 24,
   "id": "cdae7987",
   "metadata": {},
   "outputs": [
    {
     "data": {
      "text/plain": [
       "array([[False, False,  True,  True],\n",
       "       [ True,  True,  True,  True],\n",
       "       [ True,  True,  True, False]])"
      ]
     },
     "execution_count": 24,
     "metadata": {},
     "output_type": "execute_result"
    }
   ],
   "source": [
    "a1>2"
   ]
  },
  {
   "cell_type": "code",
   "execution_count": 25,
   "id": "a3da2282",
   "metadata": {},
   "outputs": [
    {
     "data": {
      "text/plain": [
       "array([[ True, False, False, False],\n",
       "       [False, False, False, False],\n",
       "       [False, False, False,  True]])"
      ]
     },
     "execution_count": 25,
     "metadata": {},
     "output_type": "execute_result"
    }
   ],
   "source": [
    "a1<2"
   ]
  },
  {
   "cell_type": "code",
   "execution_count": 26,
   "id": "dd181cd0",
   "metadata": {},
   "outputs": [
    {
     "data": {
      "text/plain": [
       "array([[1, 2, 3, 4],\n",
       "       [3, 4, 5, 6],\n",
       "       [7, 8, 9, 0]])"
      ]
     },
     "execution_count": 26,
     "metadata": {},
     "output_type": "execute_result"
    }
   ],
   "source": [
    "a1"
   ]
  },
  {
   "cell_type": "code",
   "execution_count": 27,
   "id": "77a425fb",
   "metadata": {},
   "outputs": [
    {
     "data": {
      "text/plain": [
       "array([[1.        , 1.41421356, 1.73205081, 2.        ],\n",
       "       [1.73205081, 2.        , 2.23606798, 2.44948974],\n",
       "       [2.64575131, 2.82842712, 3.        , 0.        ]])"
      ]
     },
     "execution_count": 27,
     "metadata": {},
     "output_type": "execute_result"
    }
   ],
   "source": [
    "np.sqrt(a1)"
   ]
  },
  {
   "cell_type": "code",
   "execution_count": 28,
   "id": "bb639b72",
   "metadata": {},
   "outputs": [
    {
     "data": {
      "text/plain": [
       "array([[ 0.84147098,  0.90929743,  0.14112001, -0.7568025 ],\n",
       "       [ 0.14112001, -0.7568025 , -0.95892427, -0.2794155 ],\n",
       "       [ 0.6569866 ,  0.98935825,  0.41211849,  0.        ]])"
      ]
     },
     "execution_count": 28,
     "metadata": {},
     "output_type": "execute_result"
    }
   ],
   "source": [
    "np.sin(a1)"
   ]
  },
  {
   "cell_type": "code",
   "execution_count": 29,
   "id": "8dceec5b",
   "metadata": {},
   "outputs": [
    {
     "data": {
      "text/plain": [
       "array([[ 0.54030231, -0.41614684, -0.9899925 , -0.65364362],\n",
       "       [-0.9899925 , -0.65364362,  0.28366219,  0.96017029],\n",
       "       [ 0.75390225, -0.14550003, -0.91113026,  1.        ]])"
      ]
     },
     "execution_count": 29,
     "metadata": {},
     "output_type": "execute_result"
    }
   ],
   "source": [
    "np.cos(a1)"
   ]
  },
  {
   "cell_type": "code",
   "execution_count": 30,
   "id": "348cf52e",
   "metadata": {},
   "outputs": [
    {
     "data": {
      "text/plain": [
       "array([21., -2., 10.])"
      ]
     },
     "execution_count": 30,
     "metadata": {},
     "output_type": "execute_result"
    }
   ],
   "source": [
    "a1=np.array([20.4,-2.8,9.3])\n",
    "np.ceil(a1)"
   ]
  },
  {
   "cell_type": "markdown",
   "id": "eedfac75",
   "metadata": {},
   "source": [
    "### floor gives <= to value\n",
    "### while ceil gives >= to value"
   ]
  },
  {
   "cell_type": "code",
   "execution_count": 31,
   "id": "f42dbb08",
   "metadata": {},
   "outputs": [
    {
     "data": {
      "text/plain": [
       "3"
      ]
     },
     "execution_count": 31,
     "metadata": {},
     "output_type": "execute_result"
    }
   ],
   "source": [
    "import math \n",
    "a=3\n",
    "math.floor(a)\n",
    "math.ceil(a)"
   ]
  },
  {
   "cell_type": "code",
   "execution_count": 32,
   "id": "8ed79ae7",
   "metadata": {},
   "outputs": [
    {
     "data": {
      "text/plain": [
       "0.82"
      ]
     },
     "execution_count": 32,
     "metadata": {},
     "output_type": "execute_result"
    }
   ],
   "source": [
    "round(0.8167222,2)"
   ]
  },
  {
   "cell_type": "code",
   "execution_count": 33,
   "id": "3bd45087",
   "metadata": {},
   "outputs": [
    {
     "data": {
      "text/plain": [
       "array([20., -3.,  9.])"
      ]
     },
     "execution_count": 33,
     "metadata": {},
     "output_type": "execute_result"
    }
   ],
   "source": [
    "np.floor(a1)"
   ]
  },
  {
   "cell_type": "code",
   "execution_count": 34,
   "id": "f68a2c11",
   "metadata": {},
   "outputs": [
    {
     "data": {
      "text/plain": [
       "array([[1, 2, 3, 4],\n",
       "       [3, 4, 5, 6],\n",
       "       [7, 8, 9, 0]])"
      ]
     },
     "execution_count": 34,
     "metadata": {},
     "output_type": "execute_result"
    }
   ],
   "source": [
    "a1=np.array([[1,2,3,4],[3,4,5,6],[7,8,9,0]])\n",
    "a1"
   ]
  },
  {
   "cell_type": "code",
   "execution_count": 35,
   "id": "cfc5e7af",
   "metadata": {},
   "outputs": [
    {
     "data": {
      "text/plain": [
       "9"
      ]
     },
     "execution_count": 35,
     "metadata": {},
     "output_type": "execute_result"
    }
   ],
   "source": [
    "np.max(a1)"
   ]
  },
  {
   "cell_type": "code",
   "execution_count": 37,
   "id": "09dfa5b3",
   "metadata": {},
   "outputs": [
    {
     "data": {
      "text/plain": [
       "0"
      ]
     },
     "execution_count": 37,
     "metadata": {},
     "output_type": "execute_result"
    }
   ],
   "source": [
    "np.min(a1)"
   ]
  },
  {
   "cell_type": "code",
   "execution_count": 38,
   "id": "2ed1780d",
   "metadata": {},
   "outputs": [
    {
     "data": {
      "text/plain": [
       "10"
      ]
     },
     "execution_count": 38,
     "metadata": {},
     "output_type": "execute_result"
    }
   ],
   "source": [
    "np.argmax(a1)  ##gives index value of max element"
   ]
  },
  {
   "cell_type": "code",
   "execution_count": 39,
   "id": "11c8bd4d",
   "metadata": {},
   "outputs": [
    {
     "data": {
      "text/plain": [
       "array([7, 8, 9, 6])"
      ]
     },
     "execution_count": 39,
     "metadata": {},
     "output_type": "execute_result"
    }
   ],
   "source": [
    "a1.max(axis=0)  ##row-wise output"
   ]
  },
  {
   "cell_type": "code",
   "execution_count": 40,
   "id": "1966c49d",
   "metadata": {},
   "outputs": [
    {
     "data": {
      "text/plain": [
       "array([4, 6, 9])"
      ]
     },
     "execution_count": 40,
     "metadata": {},
     "output_type": "execute_result"
    }
   ],
   "source": [
    "a1.max(axis=1)"
   ]
  },
  {
   "cell_type": "code",
   "execution_count": 41,
   "id": "8fab3cc6",
   "metadata": {},
   "outputs": [
    {
     "data": {
      "text/plain": [
       "52"
      ]
     },
     "execution_count": 41,
     "metadata": {},
     "output_type": "execute_result"
    }
   ],
   "source": [
    "a1.sum() ## sum of whole array"
   ]
  },
  {
   "cell_type": "code",
   "execution_count": 42,
   "id": "b8841ac2",
   "metadata": {},
   "outputs": [
    {
     "data": {
      "text/plain": [
       "array([11, 14, 17, 10])"
      ]
     },
     "execution_count": 42,
     "metadata": {},
     "output_type": "execute_result"
    }
   ],
   "source": [
    "a1.sum(axis=0)  ##axis-wise sum"
   ]
  },
  {
   "cell_type": "markdown",
   "id": "ab0315d4",
   "metadata": {},
   "source": [
    "# sort()"
   ]
  },
  {
   "cell_type": "code",
   "execution_count": 43,
   "id": "033032b1",
   "metadata": {},
   "outputs": [
    {
     "data": {
      "text/plain": [
       "array([[1, 2, 3, 0],\n",
       "       [3, 4, 5, 4],\n",
       "       [7, 8, 9, 6]])"
      ]
     },
     "execution_count": 43,
     "metadata": {},
     "output_type": "execute_result"
    }
   ],
   "source": [
    "np.sort(a1,axis=0)  #elements are sorting row wise"
   ]
  },
  {
   "cell_type": "code",
   "execution_count": 44,
   "id": "bde30b65",
   "metadata": {},
   "outputs": [
    {
     "data": {
      "text/plain": [
       "array([[1, 2, 3, 4],\n",
       "       [3, 4, 5, 6],\n",
       "       [0, 7, 8, 9]])"
      ]
     },
     "execution_count": 44,
     "metadata": {},
     "output_type": "execute_result"
    }
   ],
   "source": [
    "np.sort(a1,axis=1)"
   ]
  },
  {
   "cell_type": "markdown",
   "id": "2804530c",
   "metadata": {},
   "source": [
    "# matrix()"
   ]
  },
  {
   "cell_type": "code",
   "execution_count": 45,
   "id": "dce9a108",
   "metadata": {},
   "outputs": [
    {
     "data": {
      "text/plain": [
       "matrix([[1, 2],\n",
       "        [3, 4]])"
      ]
     },
     "execution_count": 45,
     "metadata": {},
     "output_type": "execute_result"
    }
   ],
   "source": [
    "a=np.mat([[1,2],[3,4]])\n",
    "a"
   ]
  },
  {
   "cell_type": "code",
   "execution_count": 46,
   "id": "1a420f84",
   "metadata": {},
   "outputs": [
    {
     "data": {
      "text/plain": [
       "matrix([[1, 2, 3],\n",
       "        [3, 4, 7],\n",
       "        [1, 2, 3]])"
      ]
     },
     "execution_count": 46,
     "metadata": {},
     "output_type": "execute_result"
    }
   ],
   "source": [
    "a=np.mat([[1,2,3],[3,4,7],[1,2,3]])\n",
    "a"
   ]
  },
  {
   "cell_type": "code",
   "execution_count": 47,
   "id": "5b6b9723",
   "metadata": {},
   "outputs": [
    {
     "ename": "ValueError",
     "evalue": "matrix must be 2-dimensional",
     "output_type": "error",
     "traceback": [
      "\u001b[1;31m---------------------------------------------------------------------------\u001b[0m",
      "\u001b[1;31mValueError\u001b[0m                                Traceback (most recent call last)",
      "Input \u001b[1;32mIn [47]\u001b[0m, in \u001b[0;36m<cell line: 1>\u001b[1;34m()\u001b[0m\n\u001b[1;32m----> 1\u001b[0m a\u001b[38;5;241m=\u001b[39m\u001b[43mnp\u001b[49m\u001b[38;5;241;43m.\u001b[39;49m\u001b[43mmat\u001b[49m\u001b[43m(\u001b[49m\u001b[43m[\u001b[49m\u001b[43m[\u001b[49m\u001b[43m[\u001b[49m\u001b[38;5;241;43m1\u001b[39;49m\u001b[43m,\u001b[49m\u001b[38;5;241;43m2\u001b[39;49m\u001b[43m,\u001b[49m\u001b[38;5;241;43m3\u001b[39;49m\u001b[43m]\u001b[49m\u001b[43m,\u001b[49m\u001b[43m[\u001b[49m\u001b[38;5;241;43m3\u001b[39;49m\u001b[43m,\u001b[49m\u001b[38;5;241;43m4\u001b[39;49m\u001b[43m,\u001b[49m\u001b[38;5;241;43m7\u001b[39;49m\u001b[43m]\u001b[49m\u001b[43m,\u001b[49m\u001b[43m[\u001b[49m\u001b[38;5;241;43m1\u001b[39;49m\u001b[43m,\u001b[49m\u001b[38;5;241;43m2\u001b[39;49m\u001b[43m,\u001b[49m\u001b[38;5;241;43m3\u001b[39;49m\u001b[43m]\u001b[49m\u001b[43m]\u001b[49m\u001b[43m]\u001b[49m\u001b[43m)\u001b[49m  \u001b[38;5;66;03m# extra dimension is not possible in matrix that's why error\u001b[39;00m\n\u001b[0;32m      2\u001b[0m a\n",
      "File \u001b[1;32m~\\anaconda3\\lib\\site-packages\\numpy\\matrixlib\\defmatrix.py:69\u001b[0m, in \u001b[0;36masmatrix\u001b[1;34m(data, dtype)\u001b[0m\n\u001b[0;32m     36\u001b[0m \u001b[38;5;129m@set_module\u001b[39m(\u001b[38;5;124m'\u001b[39m\u001b[38;5;124mnumpy\u001b[39m\u001b[38;5;124m'\u001b[39m)\n\u001b[0;32m     37\u001b[0m \u001b[38;5;28;01mdef\u001b[39;00m \u001b[38;5;21masmatrix\u001b[39m(data, dtype\u001b[38;5;241m=\u001b[39m\u001b[38;5;28;01mNone\u001b[39;00m):\n\u001b[0;32m     38\u001b[0m     \u001b[38;5;124;03m\"\"\"\u001b[39;00m\n\u001b[0;32m     39\u001b[0m \u001b[38;5;124;03m    Interpret the input as a matrix.\u001b[39;00m\n\u001b[0;32m     40\u001b[0m \n\u001b[1;32m   (...)\u001b[0m\n\u001b[0;32m     67\u001b[0m \n\u001b[0;32m     68\u001b[0m \u001b[38;5;124;03m    \"\"\"\u001b[39;00m\n\u001b[1;32m---> 69\u001b[0m     \u001b[38;5;28;01mreturn\u001b[39;00m \u001b[43mmatrix\u001b[49m\u001b[43m(\u001b[49m\u001b[43mdata\u001b[49m\u001b[43m,\u001b[49m\u001b[43m \u001b[49m\u001b[43mdtype\u001b[49m\u001b[38;5;241;43m=\u001b[39;49m\u001b[43mdtype\u001b[49m\u001b[43m,\u001b[49m\u001b[43m \u001b[49m\u001b[43mcopy\u001b[49m\u001b[38;5;241;43m=\u001b[39;49m\u001b[38;5;28;43;01mFalse\u001b[39;49;00m\u001b[43m)\u001b[49m\n",
      "File \u001b[1;32m~\\anaconda3\\lib\\site-packages\\numpy\\matrixlib\\defmatrix.py:149\u001b[0m, in \u001b[0;36mmatrix.__new__\u001b[1;34m(subtype, data, dtype, copy)\u001b[0m\n\u001b[0;32m    147\u001b[0m shape \u001b[38;5;241m=\u001b[39m arr\u001b[38;5;241m.\u001b[39mshape\n\u001b[0;32m    148\u001b[0m \u001b[38;5;28;01mif\u001b[39;00m (ndim \u001b[38;5;241m>\u001b[39m \u001b[38;5;241m2\u001b[39m):\n\u001b[1;32m--> 149\u001b[0m     \u001b[38;5;28;01mraise\u001b[39;00m \u001b[38;5;167;01mValueError\u001b[39;00m(\u001b[38;5;124m\"\u001b[39m\u001b[38;5;124mmatrix must be 2-dimensional\u001b[39m\u001b[38;5;124m\"\u001b[39m)\n\u001b[0;32m    150\u001b[0m \u001b[38;5;28;01melif\u001b[39;00m ndim \u001b[38;5;241m==\u001b[39m \u001b[38;5;241m0\u001b[39m:\n\u001b[0;32m    151\u001b[0m     shape \u001b[38;5;241m=\u001b[39m (\u001b[38;5;241m1\u001b[39m, \u001b[38;5;241m1\u001b[39m)\n",
      "\u001b[1;31mValueError\u001b[0m: matrix must be 2-dimensional"
     ]
    }
   ],
   "source": [
    "a=np.mat([[[1,2,3],[3,4,7],[1,2,3]]])  # extra dimension is not possible in matrix(only2-d) that's why error\n",
    "a"
   ]
  },
  {
   "cell_type": "code",
   "execution_count": 48,
   "id": "ac475467",
   "metadata": {},
   "outputs": [
    {
     "data": {
      "text/plain": [
       "array([[1, 2],\n",
       "       [3, 4]])"
      ]
     },
     "execution_count": 48,
     "metadata": {},
     "output_type": "execute_result"
    }
   ],
   "source": [
    "a=np.array([[1,2],[3,4]])\n",
    "a"
   ]
  },
  {
   "cell_type": "markdown",
   "id": "e58a9865",
   "metadata": {},
   "source": [
    "## Diff b/w array and matrix\n",
    "## at most 2 dimension for matrix while array can be n dimension\n",
    "## in matrix operations are performed row and col wise while in array they are performed element wise\n",
    "## matrix is a subclass of array\n"
   ]
  },
  {
   "cell_type": "code",
   "execution_count": 50,
   "id": "1912e18a",
   "metadata": {},
   "outputs": [
    {
     "data": {
      "text/plain": [
       "matrix([[19, 22],\n",
       "        [41, 48]])"
      ]
     },
     "execution_count": 50,
     "metadata": {},
     "output_type": "execute_result"
    }
   ],
   "source": [
    "m1=np.mat([[1,2],[3,4]])\n",
    "m2=np.mat([[3,4],[8,9]])\n",
    "m1*m2  ## dot\n"
   ]
  },
  {
   "cell_type": "code",
   "execution_count": 51,
   "id": "17e62eed",
   "metadata": {},
   "outputs": [
    {
     "data": {
      "text/plain": [
       "array([[ 3,  8],\n",
       "       [24, 36]])"
      ]
     },
     "execution_count": 51,
     "metadata": {},
     "output_type": "execute_result"
    }
   ],
   "source": [
    "m1=np.array([[1,2],[3,4]])\n",
    "m2=np.array([[3,4],[8,9]])\n",
    "m1*m2 \n",
    "## difference in mat and array"
   ]
  },
  {
   "cell_type": "markdown",
   "id": "2f95edc0",
   "metadata": {},
   "source": [
    "## Transpose()"
   ]
  },
  {
   "cell_type": "code",
   "execution_count": 52,
   "id": "dae102db",
   "metadata": {},
   "outputs": [],
   "source": [
    "a=np.array([[1,2],[3,4]])"
   ]
  },
  {
   "cell_type": "code",
   "execution_count": 53,
   "id": "af7d6696",
   "metadata": {},
   "outputs": [
    {
     "data": {
      "text/plain": [
       "array([[1, 3],\n",
       "       [2, 4]])"
      ]
     },
     "execution_count": 53,
     "metadata": {},
     "output_type": "execute_result"
    }
   ],
   "source": [
    "a.T  ##property of array"
   ]
  },
  {
   "cell_type": "code",
   "execution_count": 54,
   "id": "0e4cb4bf",
   "metadata": {},
   "outputs": [
    {
     "data": {
      "text/plain": [
       "array([[1, 3],\n",
       "       [2, 4]])"
      ]
     },
     "execution_count": 54,
     "metadata": {},
     "output_type": "execute_result"
    }
   ],
   "source": [
    "np.transpose(a)  ##function of numpy"
   ]
  },
  {
   "cell_type": "markdown",
   "id": "19d9f922",
   "metadata": {},
   "source": [
    "## np.trace()-gives sum of diagonal elemnts"
   ]
  },
  {
   "cell_type": "code",
   "execution_count": 55,
   "id": "e09b533d",
   "metadata": {},
   "outputs": [
    {
     "data": {
      "text/plain": [
       "5"
      ]
     },
     "execution_count": 55,
     "metadata": {},
     "output_type": "execute_result"
    }
   ],
   "source": [
    "np.trace(a)"
   ]
  },
  {
   "cell_type": "markdown",
   "id": "9b4548dc",
   "metadata": {},
   "source": [
    "## inverse()"
   ]
  },
  {
   "cell_type": "code",
   "execution_count": 56,
   "id": "cc6c7a41",
   "metadata": {},
   "outputs": [
    {
     "name": "stdout",
     "output_type": "stream",
     "text": [
      "(2, 2)\n",
      "(2, 2)\n"
     ]
    },
    {
     "data": {
      "text/plain": [
       "matrix([[-2. ,  1. ],\n",
       "        [ 1.5, -0.5]])"
      ]
     },
     "execution_count": 56,
     "metadata": {},
     "output_type": "execute_result"
    }
   ],
   "source": [
    "a=np.array([[1,2],[3,4]])  \n",
    "d=np.matrix([[1,2],[3,4]])\n",
    "print(a.shape)\n",
    "print(d.shape)\n",
    "np.linalg.inv(d)\n",
    "\n"
   ]
  },
  {
   "cell_type": "markdown",
   "id": "ab4d7d1d",
   "metadata": {},
   "source": [
    "## Broadcasting"
   ]
  },
  {
   "cell_type": "markdown",
   "id": "b5d27548",
   "metadata": {},
   "source": [
    "## when shapes are different,we use this"
   ]
  },
  {
   "cell_type": "code",
   "execution_count": 57,
   "id": "6d9b8d1e",
   "metadata": {},
   "outputs": [],
   "source": [
    "### it refers to the ability of numpy to treat arrays of different shapes during arithmetic operations. arithmetic operations are usually done "
   ]
  },
  {
   "cell_type": "code",
   "execution_count": 58,
   "id": "53739004",
   "metadata": {},
   "outputs": [
    {
     "name": "stdout",
     "output_type": "stream",
     "text": [
      "[[0 1 2 3]\n",
      " [4 5 6 7]] \n",
      "\n",
      "\n",
      "[[ 8  9 10 11]\n",
      " [12 13 14 15]]\n"
     ]
    },
    {
     "data": {
      "text/plain": [
       "array([[ 8, 10, 12, 14],\n",
       "       [16, 18, 20, 22]])"
      ]
     },
     "execution_count": 58,
     "metadata": {},
     "output_type": "execute_result"
    }
   ],
   "source": [
    "## case1: when shape is same : same as normal element wise operations\n",
    "a1=np.arange(8).reshape(2,4)\n",
    "a2=np.arange(8,16).reshape(2,4)\n",
    "print(a1,\"\\n\\n\")\n",
    "\n",
    "\n",
    "print(a2)\n",
    "a1+a2"
   ]
  },
  {
   "cell_type": "code",
   "execution_count": 59,
   "id": "ed501bbf",
   "metadata": {},
   "outputs": [
    {
     "name": "stdout",
     "output_type": "stream",
     "text": [
      "[[0 1 2]\n",
      " [3 4 5]\n",
      " [6 7 8]]\n"
     ]
    },
    {
     "data": {
      "text/plain": [
       "array([[ 0,  2,  4],\n",
       "       [ 6,  8, 10],\n",
       "       [12, 14, 16]])"
      ]
     },
     "execution_count": 59,
     "metadata": {},
     "output_type": "execute_result"
    }
   ],
   "source": [
    "## case2: a.) when shapes are different\n",
    "a1=np.arange(9).reshape(3,3) ##2-d\n",
    "print(a1)\n",
    "a1*2  ##scalar"
   ]
  },
  {
   "cell_type": "code",
   "execution_count": 60,
   "id": "d56dd14b",
   "metadata": {},
   "outputs": [
    {
     "name": "stdout",
     "output_type": "stream",
     "text": [
      "[[0 1 2]\n",
      " [3 4 5]\n",
      " [6 7 8]] \n",
      "\n",
      "\n",
      "[[0 1 2]]\n"
     ]
    },
    {
     "data": {
      "text/plain": [
       "array([[ 0,  2,  4],\n",
       "       [ 3,  5,  7],\n",
       "       [ 6,  8, 10]])"
      ]
     },
     "execution_count": 60,
     "metadata": {},
     "output_type": "execute_result"
    }
   ],
   "source": [
    "## case2: b.) when shapes are different\n",
    "a1=np.arange(9).reshape(3,3)\n",
    "a2=np.arange(3).reshape(1,3)\n",
    "print(a1,\"\\n\\n\")\n",
    "\n",
    "print(a2)\n",
    "\n",
    "a1+a2"
   ]
  },
  {
   "cell_type": "markdown",
   "id": "38e28076",
   "metadata": {},
   "source": [
    "# 31/10/22"
   ]
  },
  {
   "cell_type": "markdown",
   "id": "579808dc",
   "metadata": {},
   "source": [
    "## create an array of (3,2,3)"
   ]
  },
  {
   "cell_type": "code",
   "execution_count": 1,
   "id": "0f16aa1b",
   "metadata": {},
   "outputs": [
    {
     "name": "stdout",
     "output_type": "stream",
     "text": [
      "[[[1. 1. 1.]\n",
      "  [1. 1. 1.]]\n",
      "\n",
      " [[1. 1. 1.]\n",
      "  [1. 1. 1.]]\n",
      "\n",
      " [[1. 1. 1.]\n",
      "  [1. 1. 1.]]]\n"
     ]
    }
   ],
   "source": [
    "import numpy as np\n",
    "a=np.ones((3,2,3))\n",
    "print(a)"
   ]
  },
  {
   "cell_type": "markdown",
   "id": "cd6a5725",
   "metadata": {},
   "source": [
    "## create a vector of size 10,vector means 1-d"
   ]
  },
  {
   "cell_type": "code",
   "execution_count": 2,
   "id": "5253649d",
   "metadata": {},
   "outputs": [
    {
     "data": {
      "text/plain": [
       "array([0, 1, 2, 3, 4, 5, 6, 7, 8, 9])"
      ]
     },
     "execution_count": 2,
     "metadata": {},
     "output_type": "execute_result"
    }
   ],
   "source": [
    "a=np.arange(10)\n",
    "a"
   ]
  },
  {
   "cell_type": "markdown",
   "id": "788c5a01",
   "metadata": {},
   "source": [
    "# create an array with random values of (3,3)"
   ]
  },
  {
   "cell_type": "markdown",
   "id": "9a0081f8",
   "metadata": {},
   "source": [
    "## random module():numpy functions"
   ]
  },
  {
   "cell_type": "code",
   "execution_count": 5,
   "id": "b0f2aac6",
   "metadata": {},
   "outputs": [
    {
     "data": {
      "text/plain": [
       "0.2646703690962272"
      ]
     },
     "execution_count": 5,
     "metadata": {},
     "output_type": "execute_result"
    }
   ],
   "source": [
    "np.random.random()"
   ]
  },
  {
   "cell_type": "markdown",
   "id": "54cdcb17",
   "metadata": {},
   "source": [
    "## random.random()-value will be in range(0,1)"
   ]
  },
  {
   "cell_type": "markdown",
   "id": "ef37c3e4",
   "metadata": {},
   "source": [
    "## to fix random value use seed()"
   ]
  },
  {
   "cell_type": "code",
   "execution_count": 12,
   "id": "9c4c331e",
   "metadata": {},
   "outputs": [
    {
     "data": {
      "text/plain": [
       "0.43599490214200376"
      ]
     },
     "execution_count": 12,
     "metadata": {},
     "output_type": "execute_result"
    }
   ],
   "source": [
    "np.random.seed(2)\n",
    "np.random.random()"
   ]
  },
  {
   "cell_type": "markdown",
   "id": "c456b916",
   "metadata": {},
   "source": [
    "## random value between the specified range use uniform()"
   ]
  },
  {
   "cell_type": "code",
   "execution_count": 15,
   "id": "d1ae0185",
   "metadata": {},
   "outputs": [
    {
     "data": {
      "text/plain": [
       "18.706447852365535"
      ]
     },
     "execution_count": 15,
     "metadata": {},
     "output_type": "execute_result"
    }
   ],
   "source": [
    "np.random.uniform(10,30)"
   ]
  },
  {
   "cell_type": "code",
   "execution_count": 19,
   "id": "2180f07a",
   "metadata": {},
   "outputs": [
    {
     "data": {
      "text/plain": [
       "18.719898042840075"
      ]
     },
     "execution_count": 19,
     "metadata": {},
     "output_type": "execute_result"
    }
   ],
   "source": [
    "np.random.seed(2)\n",
    "np.random.uniform(10,30)"
   ]
  },
  {
   "cell_type": "markdown",
   "id": "b6295cf9",
   "metadata": {},
   "source": [
    "## by default float data type in numpy"
   ]
  },
  {
   "cell_type": "markdown",
   "id": "6c17cc24",
   "metadata": {},
   "source": [
    "## generate random values of certain range i.e. array with in given range"
   ]
  },
  {
   "cell_type": "code",
   "execution_count": 21,
   "id": "327ab2f5",
   "metadata": {},
   "outputs": [
    {
     "data": {
      "text/plain": [
       "array([53.38506733, 14.32341459, 51.84423401, 19.2595467 , 78.74817963,\n",
       "       85.54355397, 49.9294469 , 84.80958705,  8.88490222, 51.01936292])"
      ]
     },
     "execution_count": 21,
     "metadata": {},
     "output_type": "execute_result"
    }
   ],
   "source": [
    "np.random.uniform(1,100,10)  ## shape is 1-d and 10 elements "
   ]
  },
  {
   "cell_type": "code",
   "execution_count": 25,
   "id": "4a61a8ad",
   "metadata": {},
   "outputs": [
    {
     "data": {
      "text/plain": [
       "array([[44.16349531,  3.56669695, 55.41658531, 44.09691687, 42.61641241],\n",
       "       [33.70314728, 21.26021477, 62.30782567, 30.66581269, 27.41590024]])"
      ]
     },
     "execution_count": 25,
     "metadata": {},
     "output_type": "execute_result"
    }
   ],
   "source": [
    "np.random.seed(2)   ## elements are fixed\n",
    "np.random.uniform(1,100,10).reshape(2,5)"
   ]
  },
  {
   "cell_type": "code",
   "execution_count": 23,
   "id": "327f1160",
   "metadata": {},
   "outputs": [
    {
     "data": {
      "text/plain": [
       "array([[20.9725794 ],\n",
       "       [64.4002658 ],\n",
       "       [48.82391372],\n",
       "       [51.01843528],\n",
       "       [39.30237246],\n",
       "       [79.57010799],\n",
       "       [58.42041371],\n",
       "       [17.06756125],\n",
       "       [70.37448231],\n",
       "       [96.49055693]])"
      ]
     },
     "execution_count": 23,
     "metadata": {},
     "output_type": "execute_result"
    }
   ],
   "source": [
    "np.random.uniform(1,100,10).reshape(10,1)"
   ]
  },
  {
   "cell_type": "code",
   "execution_count": 26,
   "id": "e47aadf2",
   "metadata": {},
   "outputs": [
    {
     "ename": "ValueError",
     "evalue": "cannot reshape array of size 10 into shape (2,8)",
     "output_type": "error",
     "traceback": [
      "\u001b[1;31m---------------------------------------------------------------------------\u001b[0m",
      "\u001b[1;31mValueError\u001b[0m                                Traceback (most recent call last)",
      "Input \u001b[1;32mIn [26]\u001b[0m, in \u001b[0;36m<cell line: 1>\u001b[1;34m()\u001b[0m\n\u001b[1;32m----> 1\u001b[0m \u001b[43mnp\u001b[49m\u001b[38;5;241;43m.\u001b[39;49m\u001b[43mrandom\u001b[49m\u001b[38;5;241;43m.\u001b[39;49m\u001b[43muniform\u001b[49m\u001b[43m(\u001b[49m\u001b[38;5;241;43m1\u001b[39;49m\u001b[43m,\u001b[49m\u001b[38;5;241;43m100\u001b[39;49m\u001b[43m,\u001b[49m\u001b[38;5;241;43m10\u001b[39;49m\u001b[43m)\u001b[49m\u001b[38;5;241;43m.\u001b[39;49m\u001b[43mreshape\u001b[49m\u001b[43m(\u001b[49m\u001b[38;5;241;43m2\u001b[39;49m\u001b[43m,\u001b[49m\u001b[38;5;241;43m8\u001b[39;49m\u001b[43m)\u001b[49m\n",
      "\u001b[1;31mValueError\u001b[0m: cannot reshape array of size 10 into shape (2,8)"
     ]
    }
   ],
   "source": [
    "np.random.uniform(1,100,10).reshape(2,8)"
   ]
  },
  {
   "cell_type": "markdown",
   "id": "216f6a95",
   "metadata": {},
   "source": [
    "## for int type random value use randint()"
   ]
  },
  {
   "cell_type": "code",
   "execution_count": 27,
   "id": "7a7c4765",
   "metadata": {},
   "outputs": [
    {
     "data": {
      "text/plain": [
       "5"
      ]
     },
     "execution_count": 27,
     "metadata": {},
     "output_type": "execute_result"
    }
   ],
   "source": [
    "np.random.randint(1,10)   "
   ]
  },
  {
   "cell_type": "code",
   "execution_count": 28,
   "id": "dd7c7e71",
   "metadata": {},
   "outputs": [
    {
     "data": {
      "text/plain": [
       "array([7, 4, 3, 1, 5, 3])"
      ]
     },
     "execution_count": 28,
     "metadata": {},
     "output_type": "execute_result"
    }
   ],
   "source": [
    "np.random.randint(1,10,6)   "
   ]
  },
  {
   "cell_type": "code",
   "execution_count": 30,
   "id": "cdc981e4",
   "metadata": {},
   "outputs": [
    {
     "data": {
      "text/plain": [
       "array([[7, 9],\n",
       "       [6, 4],\n",
       "       [1, 1],\n",
       "       [3, 9]])"
      ]
     },
     "execution_count": 30,
     "metadata": {},
     "output_type": "execute_result"
    }
   ],
   "source": [
    "np.random.randint(1,10,8).reshape(4,2)   "
   ]
  },
  {
   "cell_type": "code",
   "execution_count": 32,
   "id": "49ed9205",
   "metadata": {},
   "outputs": [
    {
     "data": {
      "text/plain": [
       "array([9, 4, 9, 9, 1, 6, 4])"
      ]
     },
     "execution_count": 32,
     "metadata": {},
     "output_type": "execute_result"
    }
   ],
   "source": [
    "np.random.seed(3)\n",
    "np.random.randint(1,10,7)"
   ]
  },
  {
   "cell_type": "code",
   "execution_count": 34,
   "id": "81f32b23",
   "metadata": {},
   "outputs": [
    {
     "data": {
      "text/plain": [
       "array([[[9],\n",
       "        [4],\n",
       "        [9],\n",
       "        [9],\n",
       "        [1],\n",
       "        [6],\n",
       "        [4]]])"
      ]
     },
     "execution_count": 34,
     "metadata": {},
     "output_type": "execute_result"
    }
   ],
   "source": [
    "np.random.seed(3)\n",
    "np.random.randint(1,10,7).reshape(1,7,1)   ##3-d"
   ]
  },
  {
   "cell_type": "markdown",
   "id": "9f97570f",
   "metadata": {},
   "source": [
    "## normal distribution-mean,median,mode are approximately equal"
   ]
  },
  {
   "cell_type": "code",
   "execution_count": 36,
   "id": "20ac15c7",
   "metadata": {},
   "outputs": [
    {
     "data": {
      "text/plain": [
       "array([ 7.78520102, -6.404102  ,  0.52745132,  1.07433091, 17.73287812,\n",
       "        6.096008  , -3.42293336,  0.07158417, 12.1345431 ])"
      ]
     },
     "execution_count": 36,
     "metadata": {},
     "output_type": "execute_result"
    }
   ],
   "source": [
    "a2=np.random.normal(loc=5,scale=7,size=9) #local is mean and scale is standard deviation-variation of data point from mean\n",
    "a2"
   ]
  },
  {
   "cell_type": "code",
   "execution_count": 39,
   "id": "adf0f09d",
   "metadata": {},
   "outputs": [
    {
     "name": "stdout",
     "output_type": "stream",
     "text": [
      "3.954995698547812 1.07433091230843\n"
     ]
    }
   ],
   "source": [
    "print(np.mean(a2),np.median(a2))"
   ]
  },
  {
   "cell_type": "code",
   "execution_count": 40,
   "id": "f80549e3",
   "metadata": {},
   "outputs": [
    {
     "data": {
      "text/plain": [
       "array([ 7.86147936,  4.69244417, 12.67220966, 11.14351122,  8.51729894,\n",
       "       14.20180448, 11.04525001,  7.22161092,  1.90123223, 13.38381262,\n",
       "        8.10178697,  4.4169378 ,  3.06886216,  9.06710308,  8.52605334,\n",
       "        2.74733559, 11.01814216, 14.25579614,  6.04155128,  6.13979566,\n",
       "        4.31318909,  9.12401651, 10.2693548 ,  4.26898942,  9.86110156,\n",
       "        6.50715458, 15.56152459,  6.30929341, 13.36287628, 14.34226979,\n",
       "        6.05632663, 15.90242478,  5.16771617, 15.07317091,  2.71531526,\n",
       "       13.0442146 ,  7.20978474,  9.65092994, 12.98165294,  5.80470628,\n",
       "       15.21548957, 13.50457043, 19.83340531,  7.46581602,  8.25793488,\n",
       "        8.49369545,  4.67093512, 10.90946179, 10.47993955, 11.19475328,\n",
       "       17.28520116, 11.44239649, 11.10506151,  9.38855391, 12.00506347,\n",
       "       13.00505973, 14.90924992,  9.71643937, 13.20888425, 14.89865857,\n",
       "       10.91716421, 12.84054688, 13.27234474,  1.69851139,  7.82958   ,\n",
       "        7.8599468 , 13.54146191, 12.80483479,  6.51125008, 10.37076138,\n",
       "       13.15154116,  9.91805691,  9.69248177, 15.93379727,  4.08599933,\n",
       "        9.06218248, 11.14906692, 13.21655666,  8.95800019,  5.67212849,\n",
       "       13.38116392, 15.16177664,  2.90591359,  9.33784695, 11.48718433,\n",
       "       10.49596689,  7.0397269 ,  9.55596372, 10.19997476, 12.25534708,\n",
       "        8.65668846, 11.37382808, 13.49232493,  5.6403598 ,  8.80782658,\n",
       "       12.96016536, 14.04916642,  6.48754016, 11.93776731,  6.60115137,\n",
       "       11.97311291, 12.96567595, 15.38323009,  6.65420864,  8.32257975,\n",
       "        6.75173342, 13.98631685,  9.15016336,  5.18082378,  7.8392119 ,\n",
       "       12.65361721,  7.9002587 ,  2.64836065,  9.39574879, 10.09781899,\n",
       "       10.08770233,  9.64726017,  9.49350056, 11.13953113, 11.08540873,\n",
       "        5.45283458,  6.18131925, 15.37069015,  0.58037907, 16.09666416,\n",
       "       10.77015137,  6.93014033, 14.91133507, 10.43240698, 10.96725733,\n",
       "       10.66279255,  2.28732393, 15.17522004, 10.04327426,  9.84227639,\n",
       "        6.81357658,  7.03393299,  9.62746411, 10.29359493,  6.79479178,\n",
       "        9.60016192, -1.47718611, 17.29093093, 15.04031122, 15.60883627,\n",
       "        3.99191508,  8.04411672,  7.01374276,  8.19982539, 11.55009646,\n",
       "        7.11540968,  6.89481666,  9.79613962,  9.99163223,  9.84118157,\n",
       "        8.06003576, 11.94678652,  6.33986865, 11.43782663, 15.43033235,\n",
       "        6.49034065, 16.26876637,  9.68533484,  7.64330817, 15.14854303,\n",
       "        3.20522844,  8.55018044,  8.05235854,  7.65008612, 13.13870043,\n",
       "       12.67237209,  9.45029111,  7.17251411,  8.21087037, 12.32926524,\n",
       "       17.01629146,  8.11258474, 10.45990851, 13.29260977,  5.94984349,\n",
       "        9.39103758,  8.69947993, 16.90368496,  9.46826334,  7.72104839,\n",
       "       18.81210015,  9.040452  , 11.04623351, 11.56965212, 13.27273186,\n",
       "       17.71425454,  7.56815457, 15.97968131,  9.15363932, 10.08558406,\n",
       "        5.94442996,  7.13723487,  6.77263525,  8.91225544, 12.84473587,\n",
       "       10.42966297,  9.11397276, 16.25208563,  7.72628294, 10.34666559,\n",
       "       -4.04204769,  3.35046992,  7.38360364, 11.16073824, 12.75565556,\n",
       "       10.9216004 , 10.67263435, 11.04763591,  9.37661224, 10.07607294,\n",
       "       14.53299052,  6.09338638, 10.6888854 ,  7.37492949, 12.10564632,\n",
       "        5.72843488, 10.38690387, 10.70258294,  7.24783822, 18.18581357,\n",
       "        9.58806952, 10.8898188 ,  7.1794309 , 17.41603476, 13.78943343,\n",
       "       18.90429659, 16.70211228,  9.43743994, 14.32050636, 17.65380055,\n",
       "       11.40181667,  9.43912217,  6.61778571, 10.34454091,  3.98995552,\n",
       "       15.01260393, 11.0863218 , 13.95074982,  9.86588287, 15.83764878,\n",
       "        7.49562721, 18.43120723, 13.59222374, 10.76683889,  9.5976363 ,\n",
       "        7.83348726, 11.64842602, 10.59806763, 10.04515713,  9.59730367,\n",
       "        9.07904854, 11.85985938, 16.24850918, 11.48030683, 16.74755025,\n",
       "        9.29388257, 12.02001234,  7.58619715, 10.40014823,  1.45319262,\n",
       "       15.66551071,  9.22020942,  9.03729507, 11.34407136, 16.91223441,\n",
       "        1.3422956 , 18.52643734,  4.66075986, 11.28162557,  9.43684082,\n",
       "       13.12172215,  5.04072899, 11.99323526,  5.29892548,  4.78688292,\n",
       "        8.84676684,  9.74595284,  5.9968326 , 11.94508084, 16.49742898,\n",
       "       15.61284646,  5.68321525, 14.10591177, 14.00743745,  6.73846315,\n",
       "        5.72889686,  8.62631504,  8.63113513, 12.54662905, 10.93636571,\n",
       "        9.76870027, 16.86014406,  7.98772673, 13.20693637,  9.32053553,\n",
       "        9.3653968 , 17.21399667,  9.08949755,  7.22389129,  2.68457741,\n",
       "        9.68207055,  4.18179933, 10.69414905, 23.26507707,  7.31411915,\n",
       "       14.66324762, 13.29474924,  7.86558025, 16.46855532, 14.23969218,\n",
       "        9.50001337, 15.36308598,  6.90849298,  2.59591238, 11.87057662,\n",
       "       16.01964631, 13.99496551,  1.59980219, 11.42873745,  6.69148522,\n",
       "        9.64737307,  6.9635835 ,  8.21529607, 11.14831879, 10.41628645,\n",
       "        6.86900726, 15.18178011,  7.11442981, 10.03922095, 12.20603886,\n",
       "        6.36398888, 14.23113739, 11.25961078,  9.57788401, 11.39193951,\n",
       "        6.30738839, 18.4864119 ,  0.12884975, 10.50921065, 10.235666  ,\n",
       "       10.90996095, 11.73236426,  6.86243981,  8.80112572, 10.14329636,\n",
       "        8.03352245, 16.47482535, 15.61019357,  7.26700152, 10.83142719,\n",
       "        8.85476636,  6.89032814,  9.99135719,  8.42521906, 14.69769688,\n",
       "        9.09553654, 10.99338585, 12.50198688, 12.33855075,  9.47899264,\n",
       "        6.66590805,  9.79403189, 15.95078822,  8.72489126, 13.88023629,\n",
       "        5.01851436, 12.23120995, 11.07921964, 11.08843931,  2.60001152,\n",
       "       12.75376768, 14.27305482,  3.12071595, 10.12270686,  5.64618974,\n",
       "        6.02438457,  4.86619099, 13.7164295 ,  8.02078022,  7.86600966,\n",
       "        7.3725207 , 14.63419114,  8.99763217,  9.88347423, 13.71453324,\n",
       "       14.16765231,  9.10998054, 20.19838329, 15.97118407,  7.45434551,\n",
       "       10.9041581 , 13.16355533, 10.24002045,  1.95432595, 12.48351471,\n",
       "       11.99471637, 11.12730149,  7.73832448, 10.59193533, 12.6598507 ,\n",
       "       11.18508805, 10.40134141,  5.11874143,  6.52283339, 12.1973329 ,\n",
       "       14.00746105,  6.6517107 , 14.20600983, 13.10217546, 14.45366827,\n",
       "       12.41674913, 10.71520487,  5.37743432,  9.97086673,  8.32758253,\n",
       "        9.60730479, 14.86626317,  5.82369544,  6.21160788, 13.07115525,\n",
       "        9.2099261 ,  7.94209674,  3.16040053, 13.83576759, 14.0887945 ,\n",
       "        9.44924903, 18.09968433, 14.70825554,  8.12412923,  9.91817707,\n",
       "        9.266993  , 13.30082561,  5.73988657,  8.09653167, 18.14868684,\n",
       "       10.5375464 ,  6.51145415, 14.36686627, 15.76795198, 12.32909561,\n",
       "        8.52318574, 12.52587443,  8.13673046,  5.39357296,  9.62220882,\n",
       "       11.76710219, 15.21213139, 10.91797297, 11.14036309,  5.9090695 ,\n",
       "        8.90070664,  7.36467324, 10.97534326,  7.7784583 ,  7.20624226,\n",
       "       16.67440562,  6.64501984, 10.80297496, -1.82611756,  8.92219449,\n",
       "        7.29059549, 12.66769688,  6.72774346, 10.16255516,  9.32867484,\n",
       "       10.18063775, 17.6988406 ,  6.83503552,  6.42697961, 11.02384199,\n",
       "       10.76258617,  6.2579216 , 15.21034062,  9.90134878, 12.80410399,\n",
       "       12.35773309,  6.76835306, 12.98439984,  7.77459015,  6.47592051,\n",
       "       14.03940939, 17.14701984,  8.65905669, 11.29793212, 18.20486343,\n",
       "        7.35482947,  5.69413117,  8.34635864, 17.48816792, 13.86865807,\n",
       "       14.577692  ,  6.98977328,  8.91614068,  5.61711888, 15.4866606 ,\n",
       "        5.88226515, 10.71334508,  9.04402125,  5.55682923,  6.91142758,\n",
       "       11.36755685, 12.13463752, 11.66734533, 14.64924574, 13.21529309,\n",
       "        8.56941138,  9.06405739,  6.7897747 ,  8.53513084, 15.90681458,\n",
       "        8.11094331, 12.88803691,  8.22338191,  5.10452218,  9.31923684,\n",
       "        6.56597985, 17.9477057 , 10.79703624,  1.74177276, 11.64213215,\n",
       "        9.20689387,  8.55418457,  5.0288664 ,  5.11264437, 10.12303095,\n",
       "       14.5321726 , 12.08573241,  9.82873467, 10.10825628,  7.63840667,\n",
       "       14.52263373, 10.80189729, 14.55342702, 10.67455608,  8.8422536 ,\n",
       "        3.42690212, 18.60592126,  6.68905353, 18.14376765,  5.96110483,\n",
       "        6.11598096,  9.68109903, 13.52470499,  7.7849683 , 14.06458491,\n",
       "        3.9699764 ,  6.66284843, 12.11027878,  2.93941977,  8.08390543,\n",
       "        9.23189905,  5.54485171, 14.42967631,  5.1526341 ,  8.33560184,\n",
       "       10.57084672,  8.33265091, 12.83731377,  9.49612325, 10.02577702,\n",
       "        8.66456021,  4.55916096,  5.61814852, 10.25720297, 11.56333987,\n",
       "       14.98326074,  4.79322043,  7.9439248 ,  5.33840866, 12.69330444,\n",
       "       17.23157637, 12.98903899, 14.02879342,  5.2202787 , 12.54370617,\n",
       "       11.52503514, 15.62551981,  9.06573041,  9.01238762, 10.90133758,\n",
       "       10.22765972,  3.35765884, 12.7911371 ,  6.40560762, 12.61723308,\n",
       "        5.62483168, 17.18400865, 10.07012432,  7.99366469, 13.51944978,\n",
       "       10.06417037,  5.95294401, 14.35033268,  4.87898619, 12.97333261,\n",
       "       14.39064963, 16.67202386,  5.6136435 , 11.48189556, 11.29877938,\n",
       "       17.25363198,  5.72761682, 11.0169032 , 10.41288092, 13.14127822,\n",
       "       13.16821788,  4.22636946, 18.10643486, 13.64370606, 16.99208211,\n",
       "       10.22338816, 13.55029507, 11.56868639, 14.8708341 , 15.78879052,\n",
       "        5.51203751, 11.47098854, 10.20908125, 14.67647264, 14.32271597,\n",
       "       15.17776273, 10.3935838 ,  9.14129166, 14.18359234,  7.84503999,\n",
       "        8.20234106,  6.24288072, 14.75614005,  5.79122514,  3.2142857 ,\n",
       "        7.30593402, 10.47902019, 10.92180553, 10.24266732, 10.49773783,\n",
       "        2.38256886, 14.32720664,  8.49305837,  9.28822144, 10.22981503,\n",
       "        0.47811124, 13.74330872, 10.98037641,  2.76884534, 14.08625951,\n",
       "       10.40012124, 14.81734232, 15.46969515, 12.53903624, 13.9987571 ,\n",
       "        5.45299887, 13.34259867,  4.88128302, 13.18514427,  7.38308626,\n",
       "       11.32168269,  9.56172927, 12.18027568,  6.67741931, 21.09321674,\n",
       "       14.50038085, 13.05359018,  8.23795482, 10.32667385, 16.41110673,\n",
       "       13.35243706, 10.02383586,  6.49056588, 10.5261263 , 11.04139476,\n",
       "        8.46954256, 20.50752421, 14.81575963,  8.48273808,  9.7867693 ,\n",
       "        8.09321118, 14.88112075,  0.37194941,  4.18545192,  9.42618577,\n",
       "        7.75444963,  9.94237287, 11.52528185,  9.10210755, 12.39733814,\n",
       "       15.1780876 ,  9.92649973,  4.8520162 , 14.22113402, 18.72913949,\n",
       "        6.95082476,  4.88009357,  8.3182827 , 12.9462015 ,  6.62945536,\n",
       "        7.67064911,  7.85549464,  9.95792802, 11.02457781,  8.82936826,\n",
       "        4.16721351, 10.80737864, 13.88130256, 10.54845774, 10.44879171,\n",
       "        4.87411113, 10.19943395,  5.1952853 , 13.08383981, 10.88820986,\n",
       "       12.31116486, 10.34159293, 10.05191917, 17.16527439, 14.88131722,\n",
       "        4.62577735,  7.9130162 , 10.76806823, 13.57946177,  4.43493934,\n",
       "        5.4511619 ,  8.28533424,  8.21677236,  5.0829237 , 13.85821569,\n",
       "       13.51014374,  8.13718645, 14.84002141,  8.74386035, 12.13758281,\n",
       "       13.79356494, 10.61372099,  8.22592552,  2.5678442 ,  7.90477651,\n",
       "       18.35370025, 10.95841836,  4.28215245,  3.10675317,  7.79415405,\n",
       "        8.11776718, 11.08184437, 10.27974957, 11.1173813 ,  7.13858366,\n",
       "       15.87875714, 12.36659143,  5.43333975,  6.53521366, 13.20973184,\n",
       "        7.9773058 , 11.36214278, 11.51918346,  6.80879443,  4.21644402,\n",
       "       14.03890841,  5.4544404 , 13.1065774 ,  6.61409035, 10.65774859,\n",
       "       15.77677001,  7.80914919,  6.99714966, 16.50473774, 11.85926199,\n",
       "       12.25695575,  5.44432613, 10.98359315, 11.73061947,  6.50898607,\n",
       "        7.30344793,  9.08534539, 13.31666237, 11.06348703,  6.62322709,\n",
       "        4.45819619,  9.61371687,  9.83451444, 13.41186743, 11.78602286,\n",
       "        9.14131188, 17.76052971,  9.38244789,  8.64521005,  7.79128087,\n",
       "       11.2368779 , 10.48920559,  8.09131085,  8.67607557, 11.84325443,\n",
       "        4.02752335,  8.54451703,  9.5951321 ,  8.48932595,  7.40892069,\n",
       "        4.99300929,  5.48337763, 17.68467844, 13.23885418,  8.5246516 ,\n",
       "       14.2357593 ,  9.34765307, 12.40240127,  2.77007574,  3.53605537,\n",
       "       13.11878664, 13.47121431,  2.6589878 ,  6.37733569,  9.28411086,\n",
       "        8.78587935,  9.11230448,  7.74914071, 12.08590256,  5.55644459,\n",
       "        9.68654459, 16.71984223,  1.42994463,  9.03725836, 13.98124982,\n",
       "       11.63647694, 15.03309288,  2.87453138, 11.98649484,  9.42203848,\n",
       "       13.46769249, 10.94803665,  7.0502596 , 10.83835256, 13.22793455,\n",
       "        3.35468166, 10.97128588, 12.57529153, 15.40396832,  5.01323575,\n",
       "       11.07641713, 10.30236762, 11.33841249,  9.59977115, 14.82782776,\n",
       "       14.56188996,  2.02637072,  4.69477808, 14.16267699,  6.86416012,\n",
       "        6.4405235 ,  8.71387314,  8.31085117,  8.59179162,  8.84213983,\n",
       "       11.98401041, 12.76096692,  5.21426594, 13.78044915,  7.52116326,\n",
       "       13.24277377, 16.77279793,  0.76834112,  8.23699781, 17.06279692,\n",
       "        7.98612214, 14.28361267, 14.09378985,  3.6111036 , 11.93549875,\n",
       "       10.7444363 ,  3.88865299, 13.58388588,  6.46271114, 13.075561  ,\n",
       "       13.75312211, 13.3017993 , 11.08389891,  3.03560581, 11.68131789,\n",
       "        8.58821376,  9.07424227, 15.39356548, 12.39484641,  6.05869482,\n",
       "       11.18221555, 14.19721773, 13.53026028, 13.06999147,  1.49543464,\n",
       "       10.68200694,  7.07427823, 11.94918447, 14.67715377, 12.92083136,\n",
       "        9.11690672, 12.53959088, 10.75157681, 18.64594073,  9.3998357 ,\n",
       "        8.1167293 , 10.59994543, 14.81098789, 13.7387763 , 10.60483944,\n",
       "       16.54877472, 15.56747213,  7.26489908, 11.66492602, 15.19984373,\n",
       "       13.38047512, 11.79249711, 14.18044814,  8.27610569, 13.44227651,\n",
       "        9.8113617 , 13.1438336 , 15.95865045, 10.03728245, 11.62531211,\n",
       "       10.57612441,  4.05817717, 11.30137123,  9.64998863, 11.74195434,\n",
       "        5.43977641,  5.8823944 , 10.65039047, 12.7862959 , 16.86414424,\n",
       "       12.36008703,  9.66068216, 11.11488828,  6.66837392,  9.89404843,\n",
       "        2.51690777, 15.77561956,  5.90177465, 16.90883912,  9.37582892,\n",
       "        6.11641765,  4.99722843, 16.67169453, 12.88578048,  7.9430092 ,\n",
       "       10.77211119, 10.2297254 ,  8.06543963,  9.11365509,  7.89638667,\n",
       "       11.15328079, 15.63166885, 13.16731935, 10.61195064, 15.54749669,\n",
       "       14.1836804 ,  3.85428727,  3.62707184,  5.00939731, 16.62757836,\n",
       "        4.84597013,  7.61015283,  9.8336321 ,  2.2420068 ,  9.67682134,\n",
       "        4.32858562,  9.52967728, 12.16481145,  7.48748897, 14.64536287,\n",
       "        8.90532101,  6.86555556,  9.37839216, 15.87737084, 11.41055845,\n",
       "        3.28286229,  4.67420662,  8.69774897,  4.02257789,  7.29733133,\n",
       "        5.29519666, 10.51531498,  6.31124657, 13.38377012,  8.67558608,\n",
       "        7.95767978,  8.37786508,  7.10756089,  0.09257141, 13.95967926,\n",
       "       12.44676026, 11.64014451, -0.03776479, 21.12735466,  4.80574486,\n",
       "        1.72407369,  6.04781329,  9.36168872, 10.13982002, 12.98203941])"
      ]
     },
     "execution_count": 40,
     "metadata": {},
     "output_type": "execute_result"
    }
   ],
   "source": [
    "a2=np.random.normal(loc=10,scale=4,size=1000)\n",
    "a2"
   ]
  },
  {
   "cell_type": "code",
   "execution_count": 43,
   "id": "59cf59de",
   "metadata": {},
   "outputs": [
    {
     "name": "stdout",
     "output_type": "stream",
     "text": [
      "10.111929426537518 10.086643195385543\n"
     ]
    }
   ],
   "source": [
    "print(np.mean(a2),np.median(a2))"
   ]
  },
  {
   "cell_type": "code",
   "execution_count": 45,
   "id": "dbc54aa9",
   "metadata": {},
   "outputs": [
    {
     "data": {
      "text/plain": [
       "7.861479355541965"
      ]
     },
     "execution_count": 45,
     "metadata": {},
     "output_type": "execute_result"
    }
   ],
   "source": [
    "import statistics\n",
    "statistics.mode(a2)   ## numpy does not have mode function"
   ]
  },
  {
   "cell_type": "markdown",
   "id": "64082542",
   "metadata": {},
   "source": [
    "## skewness in normal dist is because of outliers"
   ]
  },
  {
   "cell_type": "markdown",
   "id": "ee17a8c9",
   "metadata": {},
   "source": [
    "## standard normal distribution- A normal distribution whose mean is approximately equal to 0 and s.d is approximately equal to 1."
   ]
  },
  {
   "cell_type": "markdown",
   "id": "d5f52218",
   "metadata": {},
   "source": [
    "## randn()"
   ]
  },
  {
   "cell_type": "code",
   "execution_count": 48,
   "id": "c97a3cc9",
   "metadata": {},
   "outputs": [
    {
     "data": {
      "text/plain": [
       "array([[[ 0.58605233, -0.67352455],\n",
       "        [-0.47984536,  1.17480089],\n",
       "        [ 0.25497935, -0.74473132],\n",
       "        [ 0.93153923, -0.41375187]],\n",
       "\n",
       "       [[ 0.05880358, -0.73188932],\n",
       "        [ 0.0707861 ,  0.38862078],\n",
       "        [ 0.71137067,  0.36241479],\n",
       "        [ 1.09069785, -0.6271943 ]],\n",
       "\n",
       "       [[-0.5459815 , -1.63535723],\n",
       "        [-0.0192706 ,  0.36350072],\n",
       "        [-1.44457002,  0.3957821 ],\n",
       "        [-0.49427409,  0.36191427]]])"
      ]
     },
     "execution_count": 48,
     "metadata": {},
     "output_type": "execute_result"
    }
   ],
   "source": [
    "a=np.random.randn(3,4,2)\n",
    "a"
   ]
  },
  {
   "cell_type": "code",
   "execution_count": 49,
   "id": "928cb09a",
   "metadata": {},
   "outputs": [
    {
     "name": "stdout",
     "output_type": "stream",
     "text": [
      "-0.044130312385165765\n"
     ]
    }
   ],
   "source": [
    "print(np.mean(a))"
   ]
  },
  {
   "cell_type": "code",
   "execution_count": 54,
   "id": "9491b8e7",
   "metadata": {},
   "outputs": [
    {
     "data": {
      "text/plain": [
       "array([-1.03393839e+00,  2.67557907e-01,  6.74336445e-01,  1.72623533e-01,\n",
       "       -3.98322985e-01, -4.31569312e-01,  2.66374293e-01,  5.03999582e-01,\n",
       "        1.44528780e+00,  8.37703556e-01, -1.95508565e+00,  2.18715859e-01,\n",
       "       -1.17347414e+00,  4.75743918e-01,  2.55861012e-01, -7.12488671e-02,\n",
       "       -4.29472749e-01,  4.33183082e-01,  2.72616391e-01, -1.20182651e-01,\n",
       "        1.04891431e+00,  2.13135066e+00, -6.13173808e-01, -2.24446270e-01,\n",
       "       -1.83461559e+00, -1.16950573e+00,  8.68813658e-01, -4.05606465e-02,\n",
       "       -8.04125497e-01, -1.09206856e+00, -1.29601530e-01,  3.01835042e-01,\n",
       "       -9.72771351e-01, -8.80954690e-01,  2.01317820e+00, -4.96855179e-01,\n",
       "       -8.29151042e-01, -3.32996799e-01, -2.68230586e+00, -1.28236669e+00,\n",
       "        3.60879471e-01,  3.12899979e-01,  1.23676476e+00, -1.37134086e-01,\n",
       "        4.25754757e-01,  1.48361869e+00,  7.40155062e-01,  2.15131435e+00,\n",
       "       -1.43716752e-01,  1.37595019e+00,  2.40249779e+00, -6.03555167e-01,\n",
       "       -7.66205496e-01, -8.15989660e-02,  9.61497623e-01, -5.40669216e-01,\n",
       "        8.19983766e-01,  3.15226709e-01, -3.10750156e-01,  1.81699764e-01,\n",
       "       -5.62431741e-01,  1.29099676e+00, -1.21569631e+00,  1.76845405e-01,\n",
       "       -1.72075405e+00,  1.20570381e+00, -1.30047934e+00, -9.36501648e-01,\n",
       "       -1.08029648e+00,  2.24509450e-01, -4.81763510e-01,  8.34780012e-01,\n",
       "       -1.18201372e+00,  5.63704673e-01, -1.60894026e+00,  1.52678193e+00,\n",
       "        2.91082541e-02,  7.30666935e-01, -1.22920306e+00,  1.08158332e+00,\n",
       "       -9.22173481e-01, -6.64587433e-01,  1.63435552e+00, -5.18792197e-01,\n",
       "       -4.41394459e-01,  1.08740837e+00, -1.31009612e-01, -1.22650740e+00,\n",
       "       -5.16372027e-01, -7.11176877e-01, -7.24343589e-01,  9.07534450e-01,\n",
       "       -2.32497196e+00, -3.70228846e-01, -3.40415305e-01,  1.01423507e-01,\n",
       "       -2.00584282e+00, -5.37503962e-01, -4.02962396e-01,  5.84082824e-01,\n",
       "       -1.41735909e-01, -2.78447407e-02, -1.29309930e+00, -1.36533058e+00,\n",
       "        1.86450336e+00,  9.78244701e-01, -9.33318982e-01,  1.63095915e+00,\n",
       "        3.51364888e-01,  2.07793267e+00, -2.26957230e-01, -4.34396583e-01,\n",
       "       -1.13082014e+00,  1.10659769e+00, -3.69369868e-01,  2.02006484e+00,\n",
       "       -5.90834004e-01,  9.38557495e-01, -1.75231555e+00,  5.62243089e-01,\n",
       "       -1.90804253e-01,  1.49257252e-01,  1.41488216e+00, -8.44873426e-01,\n",
       "       -5.16260538e-01, -2.08866509e+00, -9.05083542e-01,  7.80078012e-01,\n",
       "        3.89136773e-01,  7.09004510e-01,  1.29362295e+00,  1.14673729e+00,\n",
       "       -6.29527041e-01,  1.61804149e-01, -1.62003248e-01, -9.35694564e-01,\n",
       "       -1.48118370e+00,  2.85164918e-01,  1.33987009e+00, -1.11017836e+00,\n",
       "        2.70635128e-01,  7.10319840e-01,  1.38535953e+00, -6.01461714e-01,\n",
       "        1.35332229e+00,  1.17395397e-01, -5.95038060e-01, -1.65088893e+00,\n",
       "        1.52731043e-01,  1.59728620e+00, -5.46220875e-01, -7.85727914e-01,\n",
       "        2.10043338e-01,  1.11374162e+00, -8.99974577e-01, -4.46884543e-01,\n",
       "       -2.02046377e+00,  4.50273791e-01,  1.81727767e+00,  5.91369549e-01,\n",
       "       -9.77494024e-01, -5.52609027e-01, -3.25715431e-01,  1.47482836e+00,\n",
       "        6.04264373e-01,  1.14457464e+00, -4.79633465e-01,  1.02426317e+00,\n",
       "        3.76159171e-01,  4.47073346e-01,  3.43755366e-01,  1.17434192e-01,\n",
       "        6.70084810e-01, -3.52412133e-01, -1.39689869e+00,  6.84660009e-01,\n",
       "        5.33842812e-01,  1.03438487e+00, -9.41969312e-01, -3.18705989e-02,\n",
       "        6.21795579e-01, -2.27440563e+00,  1.54351250e+00, -7.55295353e-02,\n",
       "       -7.17945391e-01, -7.90648211e-01,  1.05694977e+00,  2.72878753e-01,\n",
       "        1.34990939e+00, -2.02419309e-01,  8.76055798e-01, -4.91717730e-01,\n",
       "       -1.46949650e+00, -2.25700154e+00,  7.07635815e-01,  1.65686136e-01,\n",
       "       -3.45072232e-01,  4.06249700e-01,  1.93333963e-01,  1.81545365e+00,\n",
       "       -9.43188514e-01,  1.32169895e+00, -2.07184204e+00,  3.99718969e-01,\n",
       "        1.02134271e+00, -9.77219339e-02, -7.80260393e-01,  2.87209473e-01,\n",
       "        5.98679410e-01,  3.80147638e-01, -9.57314949e-01,  5.19122026e-01,\n",
       "       -1.53162763e-01,  1.97269632e-01,  4.98079200e-01,  4.86847661e-01,\n",
       "        1.16006008e+00, -2.84125219e-02,  3.33570309e-02, -3.98358025e-02,\n",
       "       -1.77929181e+00,  3.11325474e-01,  1.58220389e+00,  1.03719612e+00,\n",
       "        6.32107968e-01, -2.26878845e+00, -3.31721518e-01, -8.31440705e-01,\n",
       "        8.57399079e-01, -1.74237805e-01,  1.35667463e+00,  5.91212640e-01,\n",
       "        1.60453347e+00, -2.33605178e+00, -3.98449004e-01, -2.70712046e-01,\n",
       "       -2.69715385e-01,  1.63782650e-01, -1.20306018e+00, -8.84768144e-02,\n",
       "        5.93247526e-01,  9.85385467e-01,  2.68566072e-01,  8.90873527e-01,\n",
       "       -6.18980354e-01, -1.10682730e+00, -3.46449544e-01,  7.50957566e-01,\n",
       "       -6.31114903e-01, -1.07459030e+00,  5.41059175e-01,  1.31476055e-01,\n",
       "       -1.36709532e-01,  1.48543632e-01, -5.20393591e-01,  7.31119497e-01,\n",
       "       -1.07505614e+00,  3.82524537e-01,  1.31133383e+00,  8.41161324e-01,\n",
       "        1.69606759e+00,  5.66706261e-01, -1.04656443e+00, -7.12543884e-02,\n",
       "        2.38324060e+00,  1.75219794e+00, -1.64139370e+00,  1.31267747e+00,\n",
       "       -6.42258845e-01,  4.09432144e-02,  1.36235335e-01,  3.37312497e-01,\n",
       "       -1.39285834e-01, -1.60401440e-01, -4.29954416e-01,  5.37826553e-01,\n",
       "       -5.26190068e-01,  1.10114373e-01,  4.50242377e-01, -9.19980971e-01,\n",
       "       -3.08437762e-01, -1.44894030e+00,  3.31274998e-01,  1.14322838e-01,\n",
       "       -1.31992679e+00,  3.76166167e-01, -7.28673666e-01, -4.92093289e-01,\n",
       "        1.50091806e+00,  1.03537848e+00,  1.61818197e+00, -1.98936319e+00,\n",
       "       -2.05098948e+00, -1.10236251e+00,  7.16760327e-02, -5.36535230e-01,\n",
       "       -4.33721310e-01,  7.92444677e-01,  5.69703743e-01, -8.12575843e-01,\n",
       "       -8.34696844e-01, -2.24954142e-01, -4.84487996e-01, -9.40845774e-01,\n",
       "       -8.66539080e-01, -3.81293584e-01, -3.11017815e-01, -1.75291178e+00,\n",
       "       -1.19133903e+00,  6.83142282e-01, -3.16434215e-01, -1.93434050e-01,\n",
       "       -2.21461191e-01, -6.66043668e-01,  4.17955324e-01, -5.03977529e-02,\n",
       "        1.31452171e+00, -2.97115336e-02,  1.48342688e+00, -7.98709726e-01,\n",
       "       -3.40862054e-01,  1.41247575e+00, -3.38441179e-01, -5.26435996e-01,\n",
       "       -1.28770403e+00, -8.82425338e-01,  4.84035741e-01,  1.48387078e+00,\n",
       "       -8.30020632e-01, -5.70110635e-01, -4.39235106e-01, -1.06112980e+00,\n",
       "       -4.47279940e-03,  1.09934896e+00,  2.23818413e+00,  7.76714112e-02,\n",
       "       -1.02321640e+00, -5.30918626e-01, -5.53462781e-01, -1.44559665e+00,\n",
       "        4.91441675e-01, -7.64833943e-01,  5.38638820e-01, -5.37288138e-01,\n",
       "       -8.46387650e-02,  5.01501616e-01,  9.97659252e-02, -1.71880093e-01,\n",
       "        2.71134229e-01, -1.05367764e+00, -1.06648125e+00, -1.70474100e+00,\n",
       "       -1.24894665e+00, -3.70067705e-01,  1.89314307e-01,  1.60587475e+00,\n",
       "        1.42483007e+00,  4.38488861e-01,  3.28411537e-01,  1.32545493e+00,\n",
       "       -5.48623352e-01, -6.17694636e-01,  1.48782520e-01, -8.89859578e-01,\n",
       "       -3.20877256e-01, -8.01062780e-01, -1.10454434e-01,  8.97339845e-01,\n",
       "        1.43541883e+00, -7.97769202e-01,  2.50630914e-01,  9.25634267e-01,\n",
       "       -9.89050408e-01, -1.18191176e+00,  1.82771642e-01, -3.97582655e-01,\n",
       "        9.51160883e-01,  5.78726285e-01, -6.99610112e-01, -9.61247709e-01,\n",
       "        7.58694202e-01,  7.42990942e-01, -3.72613199e-01, -1.10201087e+00,\n",
       "        6.96650287e-01, -2.08923133e+00, -1.35440215e+00, -3.72458547e-01,\n",
       "        6.52648433e-01,  8.00250290e-01,  1.48018624e+00,  5.33484216e-01,\n",
       "        4.55084751e-01,  2.77855233e+00, -2.11076410e+00,  4.87751753e-02,\n",
       "        4.82673799e-01, -6.82422368e-01,  6.00609856e-01, -7.74994352e-01,\n",
       "        3.89169943e-01, -1.45610165e+00,  4.75695461e-01, -1.54576655e-01,\n",
       "        5.14068888e-01,  6.38874157e-01,  1.63152359e+00,  1.76077251e+00,\n",
       "       -1.60308439e-01,  4.16595051e-01,  2.07682616e+00,  3.48230695e-01,\n",
       "        9.46984325e-03, -5.79171252e-01,  4.48520629e-01,  1.61383385e+00,\n",
       "        2.97751170e-01, -3.07872669e-02, -7.33135494e-05, -7.26647827e-01,\n",
       "       -4.04219799e-02, -1.00439907e+00, -1.68264941e+00, -3.18212896e-02,\n",
       "       -5.23567368e-01,  6.07157741e-01, -7.26163136e-01,  8.03198090e-01,\n",
       "       -1.76291663e+00,  9.83781877e-01, -8.95090995e-02,  7.51774768e-01,\n",
       "        5.68033246e-02,  1.69978410e+00, -6.10236732e-01, -7.93268415e-01,\n",
       "        1.74146467e+00,  1.33273363e+00,  1.56033665e+00, -6.06304751e-01,\n",
       "        1.27008037e+00, -3.76616700e-02, -6.74529767e-01,  5.41377347e-01,\n",
       "       -2.76559753e+00,  1.74272296e+00, -6.73527161e-02, -4.53182808e-01,\n",
       "       -9.89263503e-01, -2.72568288e-01,  1.55021979e+00, -3.64536753e-01,\n",
       "       -9.66920470e-01,  3.90291180e-01, -1.21079293e+00,  1.30019106e-01,\n",
       "       -5.70565618e-01,  9.01260985e-01,  4.38044586e-01,  9.78467209e-01,\n",
       "        2.23765216e-01, -3.84462817e-02,  4.55606007e-01,  5.42913718e-01,\n",
       "       -5.90980356e-01,  1.82091942e+00,  3.10650913e-01,  1.57395192e+00,\n",
       "        1.24117662e-01,  9.81894373e-01, -1.07580429e+00,  4.35287984e-01,\n",
       "        4.65135402e-01, -9.77179448e-01, -3.92790461e-02, -1.61475658e+00,\n",
       "       -1.07791013e+00, -6.27117170e-01, -7.37943942e-01,  2.07799163e+00,\n",
       "        1.23433176e+00, -1.56166828e-01, -1.25864844e-01,  7.99037053e-01,\n",
       "       -1.07758539e+00, -4.61175298e-01,  4.99279685e-01, -4.91312528e-01,\n",
       "       -3.22822246e-01, -5.09529906e-01, -1.24369169e+00, -3.38426967e-01,\n",
       "        6.41455511e-01, -1.45510213e+00, -7.71743185e-01,  1.67891882e+00,\n",
       "        1.00942674e-01, -1.01574480e+00,  1.10492353e-01, -6.90184007e-01,\n",
       "       -1.12743889e+00,  5.92804308e-01,  6.38815669e-01, -4.66647651e-01,\n",
       "       -1.14358131e+00, -4.79860287e-01,  1.92007315e+00,  8.14784405e-01,\n",
       "        1.32574577e-01, -5.40643467e-01, -3.34220129e-01,  7.14701772e-01,\n",
       "       -1.85921410e+00,  5.46544288e-03,  1.76049836e+00,  2.09134012e-01,\n",
       "        7.59889112e-01, -6.01445779e-02,  9.15574007e-01,  1.21424651e+00,\n",
       "       -1.28339808e-01, -7.79010109e-01, -3.74542426e-01,  1.43840670e+00,\n",
       "        2.26033138e+00, -6.74390036e-01,  9.77316712e-01, -9.72686046e-01,\n",
       "        1.77710740e-01, -1.05898070e+00,  6.49503001e-01, -1.89114070e+00,\n",
       "        2.16515313e+00, -5.87689866e-01,  1.57862842e-01,  1.40840672e+00,\n",
       "        1.39812177e+00,  2.39838157e-01,  1.11886835e+00, -9.83527557e-01,\n",
       "       -3.15270422e+00,  6.60988724e-01,  2.37744589e-01,  1.07314588e+00,\n",
       "        4.46247868e-01, -1.22419980e+00,  6.74437082e-01, -8.88327254e-01,\n",
       "       -1.06062656e+00, -1.83290280e+00, -1.09382337e+00,  9.64832598e-02,\n",
       "       -2.63383653e+00,  1.97500103e+00,  2.39894530e-01,  1.49726429e-01,\n",
       "        3.84331912e-01,  1.93460456e+00, -3.16281605e-01, -8.47570413e-01,\n",
       "       -2.84200226e-01,  1.89573535e-01, -3.03616924e-01,  5.65030516e-01,\n",
       "        8.91184930e-02,  9.11169877e-01, -3.46676892e-01,  3.19314762e-02,\n",
       "       -1.72641114e+00, -1.19696421e+00,  9.71672721e-01, -2.05522689e+00,\n",
       "       -1.71848170e+00,  3.36540254e-01,  1.93005934e+00,  1.50678800e+00,\n",
       "       -7.39063037e-01, -1.07349234e+00, -1.94827700e+00,  6.10094101e-01,\n",
       "       -1.01724249e+00,  4.23802476e-01, -1.91342290e+00,  1.47880608e-01,\n",
       "        1.36962700e+00,  5.25014258e-02,  1.02274704e+00, -1.62695778e+00,\n",
       "        1.44165876e-01, -8.39688096e-01,  6.55971482e-01, -8.32540095e-01,\n",
       "       -2.39359240e-01,  1.05540449e+00, -4.08602689e-01, -4.79771502e-01,\n",
       "        7.96850125e-01,  6.86905154e-01, -8.35739614e-01,  1.22905299e+00,\n",
       "       -2.49468205e+00,  3.69038034e-01, -1.45052360e+00,  1.08436065e+00,\n",
       "       -1.19263890e+00, -1.45185672e-01,  9.40628567e-03,  5.88460758e-01,\n",
       "        7.93197062e-01,  1.03617879e+00, -4.36625801e-01, -1.25095505e+00,\n",
       "       -2.81973199e-01,  2.03330801e+00,  4.81958520e-01,  3.28138864e-01,\n",
       "       -2.21679853e-01,  1.74395468e+00,  1.33104082e+00,  2.85999126e+00,\n",
       "       -8.33634575e-01,  1.10463971e+00, -1.38230763e+00, -1.52358070e+00,\n",
       "        1.00989866e+00,  2.68062804e-01, -1.46580553e-01, -8.12094194e-01,\n",
       "       -1.08465970e+00,  3.16007565e-01, -1.15493125e+00,  1.57926559e+00,\n",
       "        1.18763294e-01, -1.63268730e+00,  7.85374137e-01,  4.00595904e-01,\n",
       "       -1.60305139e+00,  1.06491617e+00,  2.01056935e-01,  8.56171802e-01,\n",
       "       -1.09252026e+00,  1.31845672e+00,  1.85650425e+00, -2.28850648e-01,\n",
       "        9.67000109e-02,  1.62794969e+00, -1.46032100e+00, -9.91605557e-03,\n",
       "       -4.38994171e-02,  3.27314112e-01,  1.17785267e+00,  6.69032999e-01,\n",
       "       -2.39061413e+00, -5.59092170e-02,  1.04932779e+00, -1.74161847e-01,\n",
       "       -8.87605589e-01, -5.19864239e-01,  7.60702661e-01, -1.36235881e+00,\n",
       "        2.11680221e+00, -6.86861983e-02, -7.34864767e-01, -1.34141102e-03,\n",
       "        3.88839150e-01, -8.71828372e-02,  8.58316917e-03,  4.37236900e-01,\n",
       "        5.57092547e-01, -2.17725674e-01,  2.74934584e-01,  1.10249861e+00,\n",
       "       -2.72392437e+00,  5.78683765e-01, -1.18357882e+00, -7.34284900e-01,\n",
       "        1.25770305e+00, -2.83185303e-01,  1.37111027e+00, -2.33571675e+00,\n",
       "       -4.29215585e-01, -8.22406951e-01, -9.57547453e-02,  7.67771437e-01,\n",
       "       -6.23289081e-01, -2.36621360e-01, -5.40108324e-01,  9.26677349e-01,\n",
       "       -8.19796046e-01,  3.96801470e-01,  8.58678989e-01, -4.70438809e-01,\n",
       "        2.66406474e-02,  3.71669783e-01, -6.03749985e-01,  4.47995202e-01,\n",
       "       -7.67317141e-01, -2.92804165e-01, -2.85205536e-01, -5.25298366e-01,\n",
       "        1.52384125e+00,  8.37598563e-01,  4.61335390e-01,  1.66774192e+00,\n",
       "        1.04739173e+00, -1.06181936e-01,  9.11126047e-01, -1.53957799e+00,\n",
       "        9.74275477e-01, -3.95219794e-01, -8.89172122e-01, -1.35393297e-01,\n",
       "       -5.51984086e-01,  2.48604565e-01, -7.16137725e-01, -2.06860931e-01,\n",
       "       -3.08373105e-01,  5.50522654e-01,  1.56375646e+00,  1.48931590e+00,\n",
       "       -7.84370741e-01, -4.44700875e-01, -1.39896123e+00,  5.10236890e-01,\n",
       "       -1.29747088e+00,  4.32531934e-01, -2.55462793e+00, -2.36571876e-02,\n",
       "       -1.78564554e-01,  5.36845079e-01, -2.24752118e+00,  1.76019708e-01,\n",
       "       -1.51832855e+00, -1.63028157e+00, -8.99483560e-02, -6.42942386e-01,\n",
       "        9.01916841e-01, -4.76492860e-01,  4.27845696e-01, -1.01267251e+00,\n",
       "       -8.78310324e-02, -2.96960917e-01, -1.72760933e+00,  8.82534705e-01,\n",
       "       -8.28527593e-01,  2.51351736e-01, -6.01125307e-01, -9.75661674e-02,\n",
       "       -1.14639111e+00,  1.35218184e+00,  1.70536399e+00,  1.05834051e+00,\n",
       "       -4.17412982e-01,  8.63145810e-01,  2.21742811e-01,  1.50072446e+00,\n",
       "        6.33335367e-02,  1.35345269e+00,  1.82732023e-01,  2.67599491e-01,\n",
       "       -1.53805043e+00,  1.02781747e+00,  6.23243164e-01, -4.15160764e-02,\n",
       "       -1.76476234e+00,  2.54478247e-01,  1.94809065e-01, -1.27457468e+00,\n",
       "        4.85850445e-01, -2.86766941e-01,  7.67521578e-01, -1.24853344e+00,\n",
       "        1.74814965e+00,  7.87377424e-01,  1.04470905e+00,  1.06756650e+00,\n",
       "        2.01167480e+00, -2.00862047e-02, -6.01972733e-02,  4.94203990e-01,\n",
       "       -1.63009033e+00, -1.63847398e+00, -1.09269469e+00,  1.29470281e+00,\n",
       "        8.26960415e-01, -7.40634923e-01, -9.43812911e-01,  6.47269862e-01,\n",
       "        1.98194172e-01,  1.50262876e-01,  6.84208562e-01, -4.46231809e-01,\n",
       "       -7.82288606e-02, -5.42105332e-02,  2.99195177e-01, -8.31251982e-01,\n",
       "       -2.98507371e-01, -1.20906568e-01, -4.32731705e-01,  2.12997685e-01,\n",
       "       -4.48114163e-01, -1.26098915e+00, -2.18579267e+00, -4.37918349e-01,\n",
       "       -3.35370371e-01,  2.32573304e-01, -4.64256607e-01, -1.24334237e+00,\n",
       "        1.51814622e-01,  9.24438439e-01, -8.89867101e-01,  4.95929274e-01,\n",
       "       -1.81668523e-01, -1.57914744e+00, -1.30424604e+00,  3.30749941e-01,\n",
       "       -6.23490366e-01, -1.99925929e-01, -8.14932218e-01,  1.14922914e+00,\n",
       "        8.37207022e-01,  1.58968451e+00, -6.69303565e-02, -2.59568096e+00,\n",
       "        1.48276286e+00, -2.21477487e+00,  1.13162601e+00, -1.04563288e+00,\n",
       "        1.45853507e-01, -1.17021213e-01, -5.57594610e-02, -7.07878073e-01,\n",
       "        5.57265531e-01, -6.45382985e-01,  2.34833701e-01,  4.47462664e-01,\n",
       "       -1.58177120e-01,  1.65335022e+00, -2.04810304e+00,  6.01075725e-01,\n",
       "        1.26110796e+00,  2.02566360e+00, -1.65580108e+00,  6.65639565e-01,\n",
       "       -3.58581128e-01, -1.76037530e+00, -1.40105269e-01, -1.09700822e+00,\n",
       "       -3.35120432e-01, -1.62921123e+00,  6.87626759e-01, -4.17514413e-01,\n",
       "       -1.66446293e+00, -3.14430941e-01, -9.93426562e-01, -5.17031296e-01,\n",
       "        8.03350588e-01,  1.72325171e+00, -1.40346348e-02,  1.91019511e-01,\n",
       "       -3.77720481e-01,  4.34815767e-01, -4.56510045e-01, -2.93234601e+00,\n",
       "       -1.03908224e-01, -2.03695125e-01, -2.19754613e-01,  4.64107514e-02,\n",
       "        1.24183958e+00, -8.11757541e-02, -1.30045209e+00, -5.78657297e-01,\n",
       "        1.19703415e+00,  7.70953980e-01,  1.34201267e+00, -1.51877597e+00,\n",
       "       -3.74451866e-01,  1.12231272e+00, -1.83637301e+00,  2.94413836e-02,\n",
       "       -1.72815471e+00, -1.11658859e-01, -8.99857226e-01, -5.29589706e-01,\n",
       "        1.27647993e+00,  5.60733628e-02, -6.03222459e-01, -1.82536848e+00,\n",
       "        3.75571701e-01,  8.71035384e-02, -1.48350459e+00,  1.02341027e+00,\n",
       "        1.84622768e-01,  6.46720979e-01, -8.65345463e-01,  1.74866764e-01,\n",
       "        1.85539229e+00,  1.25707746e+00, -4.03268083e-01, -1.68640559e+00,\n",
       "       -1.68515640e+00,  2.05607805e+00, -1.40067889e+00,  6.82771578e-01,\n",
       "        6.23344494e-01,  8.08985437e-01, -1.72905422e-01,  1.26000552e+00,\n",
       "        5.09875722e-01,  6.40115007e-01,  5.31801065e-01, -8.14819847e-01,\n",
       "       -9.65178696e-01, -8.84988092e-01, -8.80941204e-01, -8.47068700e-03,\n",
       "        4.65387336e-01,  2.33383253e-01,  4.93260867e-01, -3.89576985e-01,\n",
       "       -9.91815573e-02, -9.43796910e-01,  7.24314847e-01, -4.31816911e-01,\n",
       "       -1.47796106e+00, -3.30992897e-01,  1.29116956e+00, -1.58836309e+00,\n",
       "        1.87843714e+00, -1.40790471e+00, -2.20075587e-01, -1.56753771e+00,\n",
       "        1.07904678e-01,  8.46344088e-01,  1.60773230e+00, -1.36529001e+00,\n",
       "       -1.38919647e+00, -2.13957193e-01, -4.60845548e-01, -1.26238935e-01,\n",
       "       -3.50860887e-01,  1.03901649e+00, -5.62897753e-01,  7.51491099e-01,\n",
       "       -1.68381395e+00,  7.47308208e-01,  8.04649146e-01, -2.92630156e-01,\n",
       "       -5.78004600e-01, -2.42684891e-02,  1.02747103e+00, -1.38471095e+00,\n",
       "        1.08758139e+00,  1.27526127e+00, -4.56497277e-01, -1.73979521e-03,\n",
       "        9.64985010e-01, -9.31749117e-01,  2.87910082e-01, -5.72990060e-01,\n",
       "       -2.28834256e-01, -1.34442086e+00,  1.65345955e-01,  1.09387750e+00,\n",
       "        6.91401469e-01, -1.73153356e+00,  5.53629742e-01, -6.48704280e-01,\n",
       "        5.29297351e-01,  1.81607131e-01, -9.24598687e-01,  2.44925755e+00,\n",
       "       -2.89511521e-01,  1.78216469e-01, -1.77261988e-01,  4.15262103e-02,\n",
       "       -4.23002391e-01, -4.74500761e-01,  1.56640562e+00,  3.39402556e-02,\n",
       "       -3.50189588e-01, -3.98213404e-02, -1.23929593e+00,  3.71582945e-02,\n",
       "       -1.17613385e+00, -8.55681097e-01,  4.44415140e-01,  8.53745028e-01,\n",
       "        1.76458856e+00, -1.61175765e+00,  4.09323130e-01,  5.94898224e-01,\n",
       "       -5.91955037e-02, -2.33325908e+00,  7.70346205e-01,  4.02307513e-01,\n",
       "        5.49602881e-01,  1.43999071e+00, -8.10408003e-01,  6.91050334e-01])"
      ]
     },
     "execution_count": 54,
     "metadata": {},
     "output_type": "execute_result"
    }
   ],
   "source": [
    "a1=np.random.randn(1000)\n",
    "a1"
   ]
  },
  {
   "cell_type": "code",
   "execution_count": 58,
   "id": "695303e7",
   "metadata": {},
   "outputs": [
    {
     "name": "stdout",
     "output_type": "stream",
     "text": [
      "-0.02524078317793115 1.0078931438151801\n"
     ]
    }
   ],
   "source": [
    "print(np.mean(a1),np.std(a1))  ##standard normal dist"
   ]
  },
  {
   "cell_type": "code",
   "execution_count": 57,
   "id": "8b06f54a",
   "metadata": {},
   "outputs": [
    {
     "name": "stdout",
     "output_type": "stream",
     "text": [
      "-0.034766134429356874\n"
     ]
    }
   ],
   "source": [
    "print(np.median(a1))"
   ]
  },
  {
   "cell_type": "code",
   "execution_count": 60,
   "id": "c20ec1ba",
   "metadata": {},
   "outputs": [
    {
     "data": {
      "text/plain": [
       "array([[0.68788591, 0.46551928, 0.62777815, 0.12127442, 0.19793028,\n",
       "        0.12305502, 0.0463631 ],\n",
       "       [0.72697621, 0.02708083, 0.28067244, 0.91285346, 0.97181203,\n",
       "        0.2306639 , 0.11880483],\n",
       "       [0.30090518, 0.87460867, 0.43719497, 0.54190896, 0.04567423,\n",
       "        0.24878775, 0.13089305],\n",
       "       [0.79171067, 0.88692091, 0.59228673, 0.18658482, 0.87029362,\n",
       "        0.1733087 , 0.49887722]])"
      ]
     },
     "execution_count": 60,
     "metadata": {},
     "output_type": "execute_result"
    }
   ],
   "source": [
    "## generate random sample of size 4*7 between 0 to 1\n",
    "np.random.random_sample((4,7))"
   ]
  },
  {
   "cell_type": "markdown",
   "id": "bb97a58a",
   "metadata": {},
   "source": [
    "## create an identity matrix:eye()"
   ]
  },
  {
   "cell_type": "code",
   "execution_count": 63,
   "id": "c2ed6116",
   "metadata": {},
   "outputs": [
    {
     "data": {
      "text/plain": [
       "array([[1, 0, 0],\n",
       "       [0, 1, 0],\n",
       "       [0, 0, 1]])"
      ]
     },
     "execution_count": 63,
     "metadata": {},
     "output_type": "execute_result"
    }
   ],
   "source": [
    "a=np.eye(3,dtype=int)\n",
    "a"
   ]
  },
  {
   "cell_type": "code",
   "execution_count": 64,
   "id": "e171a3f9",
   "metadata": {},
   "outputs": [
    {
     "data": {
      "text/plain": [
       "array([[0, 1, 0],\n",
       "       [0, 0, 1],\n",
       "       [0, 0, 0]])"
      ]
     },
     "execution_count": 64,
     "metadata": {},
     "output_type": "execute_result"
    }
   ],
   "source": [
    "a=np.eye(3,k=1,dtype=int)\n",
    "a"
   ]
  },
  {
   "cell_type": "code",
   "execution_count": 65,
   "id": "6309fad7",
   "metadata": {},
   "outputs": [
    {
     "data": {
      "text/plain": [
       "array([[0, 0, 1],\n",
       "       [0, 0, 0],\n",
       "       [0, 0, 0]])"
      ]
     },
     "execution_count": 65,
     "metadata": {},
     "output_type": "execute_result"
    }
   ],
   "source": [
    "a=np.eye(3,k=2,dtype=int)\n",
    "a"
   ]
  },
  {
   "cell_type": "code",
   "execution_count": 66,
   "id": "8192810c",
   "metadata": {},
   "outputs": [
    {
     "data": {
      "text/plain": [
       "array([[0, 0, 0],\n",
       "       [1, 0, 0],\n",
       "       [0, 1, 0]])"
      ]
     },
     "execution_count": 66,
     "metadata": {},
     "output_type": "execute_result"
    }
   ],
   "source": [
    "a=np.eye(3,k=-1,dtype=int)\n",
    "a"
   ]
  },
  {
   "cell_type": "code",
   "execution_count": 67,
   "id": "2f4f534f",
   "metadata": {},
   "outputs": [
    {
     "data": {
      "text/plain": [
       "array([[0, 0, 0],\n",
       "       [0, 0, 0],\n",
       "       [1, 0, 0]])"
      ]
     },
     "execution_count": 67,
     "metadata": {},
     "output_type": "execute_result"
    }
   ],
   "source": [
    "a=np.eye(3,k=-2,dtype=int)\n",
    "a"
   ]
  },
  {
   "cell_type": "markdown",
   "id": "403089df",
   "metadata": {},
   "source": [
    "## to extract diagonal array-np.diag()"
   ]
  },
  {
   "cell_type": "code",
   "execution_count": 75,
   "id": "2cd414fd",
   "metadata": {},
   "outputs": [
    {
     "name": "stdout",
     "output_type": "stream",
     "text": [
      "[[1 2 3]\n",
      " [4 5 6]\n",
      " [7 8 9]]\n",
      "diagonal elements are [1 5 9]\n"
     ]
    }
   ],
   "source": [
    "a=np.array([[1,2,3],[4,5,6],[7,8,9]])\n",
    "print(a)\n",
    "print(\"diagonal elements are\",np.diag(a))"
   ]
  },
  {
   "cell_type": "code",
   "execution_count": 74,
   "id": "343ee4a3",
   "metadata": {},
   "outputs": [
    {
     "name": "stdout",
     "output_type": "stream",
     "text": [
      "[[1 2 3]\n",
      " [4 5 6]\n",
      " [7 8 9]]\n",
      "diagonal elements are [2 6]\n"
     ]
    }
   ],
   "source": [
    "a=np.array([[1,2,3],[4,5,6],[7,8,9]])\n",
    "print(a)\n",
    "print(\"diagonal elements are\",np.diag(a,k=1))   ## upper diagonal elements"
   ]
  },
  {
   "cell_type": "code",
   "execution_count": 76,
   "id": "2b915209",
   "metadata": {},
   "outputs": [
    {
     "name": "stdout",
     "output_type": "stream",
     "text": [
      "[[1 2 3]\n",
      " [4 5 6]\n",
      " [7 8 9]]\n",
      "diagonal elements are [3]\n"
     ]
    }
   ],
   "source": [
    "a=np.array([[1,2,3],[4,5,6],[7,8,9]])\n",
    "print(a)\n",
    "print(\"diagonal elements are\",np.diag(a,k=2))"
   ]
  },
  {
   "cell_type": "code",
   "execution_count": 77,
   "id": "8854a0d4",
   "metadata": {},
   "outputs": [
    {
     "name": "stdout",
     "output_type": "stream",
     "text": [
      "[[1 2 3]\n",
      " [4 5 6]\n",
      " [7 8 9]]\n",
      "diagonal elements are [4 8]\n"
     ]
    }
   ],
   "source": [
    "a=np.array([[1,2,3],[4,5,6],[7,8,9]])\n",
    "print(a)\n",
    "print(\"diagonal elements are\",np.diag(a,k=-1))"
   ]
  },
  {
   "cell_type": "code",
   "execution_count": 78,
   "id": "46783477",
   "metadata": {},
   "outputs": [
    {
     "name": "stdout",
     "output_type": "stream",
     "text": [
      "[[1 2 3]\n",
      " [4 5 6]\n",
      " [7 8 9]]\n",
      "diagonal elements are [7]\n"
     ]
    }
   ],
   "source": [
    "a=np.array([[1,2,3],[4,5,6],[7,8,9]])\n",
    "print(a)\n",
    "print(\"diagonal elements are\",np.diag(a,k=-2)) ##2-d"
   ]
  },
  {
   "cell_type": "code",
   "execution_count": 79,
   "id": "bac64403",
   "metadata": {},
   "outputs": [
    {
     "name": "stdout",
     "output_type": "stream",
     "text": [
      "[1 5 9]\n",
      "[[1 0 0]\n",
      " [0 5 0]\n",
      " [0 0 9]]\n"
     ]
    }
   ],
   "source": [
    "diag_ele=np.diag(a)\n",
    "print(diag_ele)\n",
    "print(np.diag(diag_ele))"
   ]
  },
  {
   "cell_type": "code",
   "execution_count": 80,
   "id": "5ee31e6b",
   "metadata": {},
   "outputs": [
    {
     "name": "stdout",
     "output_type": "stream",
     "text": [
      "[[1 0 0 0 0]\n",
      " [0 2 0 0 0]\n",
      " [0 0 3 0 0]\n",
      " [0 0 0 4 0]\n",
      " [0 0 0 0 5]]\n",
      "[[0 0 0 0 0 0]\n",
      " [5 0 0 0 0 0]\n",
      " [0 6 0 0 0 0]\n",
      " [0 0 7 0 0 0]\n",
      " [0 0 0 8 0 0]\n",
      " [0 0 0 0 9 0]]\n"
     ]
    }
   ],
   "source": [
    "## diagflat: for creating diagonal array means the element is to be placed diagonally based on the value of k\n",
    "a1=np.diagflat([1,2,3,4,5],k=0)\n",
    "print(a1)\n",
    "a2=np.diagflat([5,6,7,8,9],k=-1)\n",
    "print(a2)"
   ]
  },
  {
   "cell_type": "markdown",
   "id": "2947940f",
   "metadata": {},
   "source": [
    "# tri, triu, tril"
   ]
  },
  {
   "cell_type": "code",
   "execution_count": 81,
   "id": "b875b1b3",
   "metadata": {},
   "outputs": [
    {
     "name": "stdout",
     "output_type": "stream",
     "text": [
      "[[1 2 3]\n",
      " [0 5 6]\n",
      " [0 0 9]]\n"
     ]
    }
   ],
   "source": [
    "a=[[1,2,3],[4,5,6],[7,8,9]]\n",
    "u_array=np.triu(a,k=0)\n",
    "print(u_array)"
   ]
  },
  {
   "cell_type": "code",
   "execution_count": 82,
   "id": "76279961",
   "metadata": {},
   "outputs": [
    {
     "name": "stdout",
     "output_type": "stream",
     "text": [
      "[[0 2 3]\n",
      " [0 0 6]\n",
      " [0 0 0]]\n"
     ]
    }
   ],
   "source": [
    "u_array=np.triu(a,k=1)\n",
    "print(u_array)"
   ]
  },
  {
   "cell_type": "code",
   "execution_count": 83,
   "id": "2f00115b",
   "metadata": {},
   "outputs": [
    {
     "name": "stdout",
     "output_type": "stream",
     "text": [
      "[[0 0 3]\n",
      " [0 0 0]\n",
      " [0 0 0]]\n"
     ]
    }
   ],
   "source": [
    "u_array=np.triu(a,k=2)\n",
    "print(u_array)"
   ]
  },
  {
   "cell_type": "markdown",
   "id": "9c1a9fcc",
   "metadata": {},
   "source": [
    "# fromfunction()-create the array based on the functionality you specify and gives index"
   ]
  },
  {
   "cell_type": "code",
   "execution_count": 84,
   "id": "441969be",
   "metadata": {},
   "outputs": [
    {
     "data": {
      "text/plain": [
       "array([[0., 1., 2.],\n",
       "       [1., 2., 3.],\n",
       "       [2., 3., 4.]])"
      ]
     },
     "execution_count": 84,
     "metadata": {},
     "output_type": "execute_result"
    }
   ],
   "source": [
    "np.fromfunction(lambda i,j:i+j,(3,3))"
   ]
  },
  {
   "cell_type": "code",
   "execution_count": 85,
   "id": "458192c0",
   "metadata": {},
   "outputs": [
    {
     "data": {
      "text/plain": [
       "array([[0., 0., 0., 0.],\n",
       "       [0., 1., 2., 3.],\n",
       "       [0., 2., 4., 6.],\n",
       "       [0., 3., 6., 9.]])"
      ]
     },
     "execution_count": 85,
     "metadata": {},
     "output_type": "execute_result"
    }
   ],
   "source": [
    "np.fromfunction(lambda i,j:i*j,(4,4))"
   ]
  },
  {
   "cell_type": "code",
   "execution_count": null,
   "id": "0b74fdaa",
   "metadata": {},
   "outputs": [],
   "source": []
  }
 ],
 "metadata": {
  "kernelspec": {
   "display_name": "Python 3 (ipykernel)",
   "language": "python",
   "name": "python3"
  },
  "language_info": {
   "codemirror_mode": {
    "name": "ipython",
    "version": 3
   },
   "file_extension": ".py",
   "mimetype": "text/x-python",
   "name": "python",
   "nbconvert_exporter": "python",
   "pygments_lexer": "ipython3",
   "version": "3.9.12"
  }
 },
 "nbformat": 4,
 "nbformat_minor": 5
}
