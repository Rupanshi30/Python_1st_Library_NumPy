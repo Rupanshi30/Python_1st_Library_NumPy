{
 "cells": [
  {
   "cell_type": "markdown",
   "id": "2c4374b8",
   "metadata": {},
   "source": [
    "#### q. 1 How to find the memory size of any array"
   ]
  },
  {
   "cell_type": "code",
   "execution_count": 3,
   "id": "8bed9428",
   "metadata": {},
   "outputs": [
    {
     "name": "stdout",
     "output_type": "stream",
     "text": [
      "24\n"
     ]
    }
   ],
   "source": [
    "import numpy as np\n",
    "a=np.array([[1,2,3],[4,5,6]])\n",
    "print(a.size*a.itemsize)"
   ]
  },
  {
   "cell_type": "markdown",
   "id": "74f2c24d",
   "metadata": {},
   "source": [
    "#### q.2 create an array of (3,5,8 )"
   ]
  },
  {
   "cell_type": "code",
   "execution_count": 3,
   "id": "8be97a55",
   "metadata": {},
   "outputs": [
    {
     "name": "stdout",
     "output_type": "stream",
     "text": [
      "[[[1 1 1 1 1 1 1 1]\n",
      "  [1 1 1 1 1 1 1 1]\n",
      "  [1 1 1 1 1 1 1 1]\n",
      "  [1 1 1 1 1 1 1 1]\n",
      "  [1 1 1 1 1 1 1 1]]\n",
      "\n",
      " [[1 1 1 1 1 1 1 1]\n",
      "  [1 1 1 1 1 1 1 1]\n",
      "  [1 1 1 1 1 1 1 1]\n",
      "  [1 1 1 1 1 1 1 1]\n",
      "  [1 1 1 1 1 1 1 1]]\n",
      "\n",
      " [[1 1 1 1 1 1 1 1]\n",
      "  [1 1 1 1 1 1 1 1]\n",
      "  [1 1 1 1 1 1 1 1]\n",
      "  [1 1 1 1 1 1 1 1]\n",
      "  [1 1 1 1 1 1 1 1]]]\n"
     ]
    }
   ],
   "source": [
    "a=np.ones((3,5,8),dtype=int)\n",
    "print(a)"
   ]
  },
  {
   "cell_type": "markdown",
   "id": "7c81b3df",
   "metadata": {},
   "source": [
    "### q.3 \n",
    "#### a) Create a null vector of size 10 but the fifth value which is 1 \n",
    "#### b)Reverse a vector (first element becomes last)\n",
    "### c) sort it."
   ]
  },
  {
   "cell_type": "code",
   "execution_count": 4,
   "id": "a7b63674",
   "metadata": {},
   "outputs": [
    {
     "name": "stdout",
     "output_type": "stream",
     "text": [
      "[0. 0. 0. 0. 1. 0. 0. 0. 0. 0.]\n"
     ]
    }
   ],
   "source": [
    "a=np.zeros(10,)\n",
    "a[4]=1\n",
    "print(a)"
   ]
  },
  {
   "cell_type": "code",
   "execution_count": 25,
   "id": "de48032e",
   "metadata": {},
   "outputs": [
    {
     "name": "stdout",
     "output_type": "stream",
     "text": [
      "[0 1 2 3 4 5 6]\n",
      "[6 1 2 3 4 5 0]\n"
     ]
    }
   ],
   "source": [
    "a=np.arange(7)\n",
    "print(a)\n",
    "fir=a[0]\n",
    "a[0]=a[6]\n",
    "a[6]=a[0]\n",
    "a[6]=fir\n",
    "print(a)\n"
   ]
  },
  {
   "cell_type": "code",
   "execution_count": 27,
   "id": "cb6e9ea4",
   "metadata": {},
   "outputs": [
    {
     "name": "stdout",
     "output_type": "stream",
     "text": [
      "[[-2  5 17]\n",
      " [ 2  6  8]]\n"
     ]
    }
   ],
   "source": [
    "a=np.array([[17,5,-2],[6,2,8]])\n",
    "print(np.sort(a))"
   ]
  },
  {
   "cell_type": "markdown",
   "id": "4806c1b1",
   "metadata": {},
   "source": [
    "#### q.4 Create an array as :\n",
    "[[1,1,1,1,1],[1,0,0,0,1],[1,0,9,0,1],[1,0,0,0,1],[1,1,1,1,1]]\n",
    "\n",
    "note : don not use np.array direct.\n",
    "\n"
   ]
  },
  {
   "cell_type": "code",
   "execution_count": 36,
   "id": "b764e2fb",
   "metadata": {},
   "outputs": [
    {
     "name": "stdout",
     "output_type": "stream",
     "text": [
      "[[[1 1 1 1 1]\n",
      "  [1 1 1 1 1]\n",
      "  [1 1 1 1 1]\n",
      "  [1 1 1 1 1]\n",
      "  [1 1 1 1 1]]]\n",
      "[[[1 1 1 1 1]\n",
      "  [1 0 0 0 1]\n",
      "  [1 0 9 0 1]\n",
      "  [1 0 0 0 1]\n",
      "  [1 1 1 1 1]]]\n"
     ]
    }
   ],
   "source": [
    "a=np.ones((1,5,5),dtype=int)\n",
    "print(a)\n",
    "a[0][1][1:4]=0\n",
    "a[0][2][1:4:2]=0\n",
    "a[0][2][2]=9\n",
    "a[0][3][1:4]=0\n",
    "print(a)"
   ]
  },
  {
   "cell_type": "markdown",
   "id": "e24ac5e3",
   "metadata": {},
   "source": [
    "#### q.5 Create a 3x3 matrix with values ranging from 0 to 8 "
   ]
  },
  {
   "cell_type": "code",
   "execution_count": 41,
   "id": "4888634c",
   "metadata": {},
   "outputs": [
    {
     "data": {
      "text/plain": [
       "matrix([[0, 1, 2],\n",
       "        [3, 4, 5],\n",
       "        [6, 7, 8]])"
      ]
     },
     "execution_count": 41,
     "metadata": {},
     "output_type": "execute_result"
    }
   ],
   "source": [
    "a=np.mat(np.arange(9).reshape(3,3))\n",
    "a"
   ]
  },
  {
   "cell_type": "markdown",
   "id": "5d4ab9fa",
   "metadata": {},
   "source": [
    "#### q.6 Find indices of non-zero elements from [1,2,0,0,4,0] "
   ]
  },
  {
   "cell_type": "code",
   "execution_count": 89,
   "id": "b8b02d83",
   "metadata": {},
   "outputs": [
    {
     "data": {
      "text/plain": [
       "(array([0, 1, 4], dtype=int64),)"
      ]
     },
     "execution_count": 89,
     "metadata": {},
     "output_type": "execute_result"
    }
   ],
   "source": [
    "a=np.array([1,2,0,0,4,0])\n",
    "np.where(a>0)"
   ]
  },
  {
   "cell_type": "markdown",
   "id": "e02813ab",
   "metadata": {},
   "source": [
    "#### Q.7 Create a 10x10 array with random values and find the minimum and maximum values "
   ]
  },
  {
   "cell_type": "code",
   "execution_count": 49,
   "id": "2075e2dc",
   "metadata": {},
   "outputs": [
    {
     "name": "stdout",
     "output_type": "stream",
     "text": [
      "[[  5.82986357  74.5785768   19.17466294  39.39286407 188.48412248\n",
      "   74.25423433 145.80016036  25.23202173  50.25658434 176.24705942]\n",
      " [180.6592301   57.52705164 193.4226263  133.61986713 100.60135471\n",
      "   75.60048173  67.47365886 190.40214102 138.66676572 106.82034001]\n",
      " [  8.69793959  49.51017512 188.63414453 111.37203325  71.50364647\n",
      "    1.89007483  50.70965344  50.84533803  34.13710521  68.99599194]\n",
      " [ 40.52981027  12.58030804  19.59207918  99.34550046  13.93211808\n",
      "  187.03071267  41.21952703  92.84246999  82.93365142  58.26754369]\n",
      " [ 64.70570296  42.31951668  56.05365755  23.42100714 137.85037496\n",
      "  128.90523787  62.30588067 176.05979123  77.27514502 122.21786006]\n",
      " [104.63386524  65.01136072 185.95808461 169.6402818  168.2245896\n",
      "  190.85772731   0.49648525  98.42382005 187.58262381  26.88535196]\n",
      " [ 48.99882768 101.01238412 135.68430196  66.55199152  61.27293432\n",
      "  155.15958224   6.57078765 157.1595725   85.70805629 125.80189143]\n",
      " [141.10060498  19.69372588 180.76923297 164.46249372  75.07628745\n",
      "   38.9588657   12.56108761  61.72178523 142.63839212 162.63634324]\n",
      " [ 65.31766024  44.05797732  65.47883673 192.87336726  19.21814004\n",
      "   32.43668953 138.84782379  27.95269981  53.32517853 160.63517449]\n",
      " [ 60.12235677 119.40330977 114.56245755  53.08869432  49.74685778\n",
      "   57.93509813 175.18801448   3.75162935  18.32728242  68.24199183]]\n"
     ]
    }
   ],
   "source": [
    "a=np.random.uniform(0,200,100).reshape(10,10)\n",
    "print(a)"
   ]
  },
  {
   "cell_type": "code",
   "execution_count": 50,
   "id": "c5428fda",
   "metadata": {},
   "outputs": [
    {
     "data": {
      "text/plain": [
       "0.4964852536192943"
      ]
     },
     "execution_count": 50,
     "metadata": {},
     "output_type": "execute_result"
    }
   ],
   "source": [
    "a.min()"
   ]
  },
  {
   "cell_type": "code",
   "execution_count": 51,
   "id": "fc93d2df",
   "metadata": {},
   "outputs": [
    {
     "data": {
      "text/plain": [
       "193.42262630245926"
      ]
     },
     "execution_count": 51,
     "metadata": {},
     "output_type": "execute_result"
    }
   ],
   "source": [
    "a.max()"
   ]
  },
  {
   "cell_type": "markdown",
   "id": "1aaba044",
   "metadata": {},
   "source": [
    "#### q.8 Create a random vector of size 30 and find the mean value"
   ]
  },
  {
   "cell_type": "code",
   "execution_count": 65,
   "id": "26ddea51",
   "metadata": {},
   "outputs": [
    {
     "name": "stdout",
     "output_type": "stream",
     "text": [
      "[39 16  1 39 49  6 44 25 35 46 49 38 37 14 34  1  6 11 26 16 42 23 17 37\n",
      " 16 28 30 20 26 32]\n",
      "26.766666666666666\n"
     ]
    }
   ],
   "source": [
    "a=np.random.randint(0,50,30)\n",
    "print(a)\n",
    "print(np.mean(a))"
   ]
  },
  {
   "cell_type": "markdown",
   "id": "07f66116",
   "metadata": {},
   "source": [
    "##### q.9 Create a 2dimensional array of  size with 1 on the border and 0 inside "
   ]
  },
  {
   "cell_type": "code",
   "execution_count": 71,
   "id": "4d1983f6",
   "metadata": {},
   "outputs": [
    {
     "name": "stdout",
     "output_type": "stream",
     "text": [
      "[[1 1 1 1 1]\n",
      " [1 1 1 1 1]\n",
      " [1 1 1 1 1]\n",
      " [1 1 1 1 1]\n",
      " [1 1 1 1 1]]\n",
      "[[1 1 1 1 1]\n",
      " [1 0 0 0 1]\n",
      " [1 0 0 0 1]\n",
      " [1 0 0 0 1]\n",
      " [1 1 1 1 1]]\n"
     ]
    }
   ],
   "source": [
    "a=np.ones((5,5),dtype=int)\n",
    "print(a)\n",
    "a[1:4,1:4]=0\n",
    "print(a)"
   ]
  },
  {
   "cell_type": "markdown",
   "id": "b25679f7",
   "metadata": {},
   "source": [
    "#### q.10 How to add a border (filled with 0's) around an existing array? "
   ]
  },
  {
   "cell_type": "code",
   "execution_count": 80,
   "id": "2ed57161",
   "metadata": {},
   "outputs": [
    {
     "name": "stdout",
     "output_type": "stream",
     "text": [
      "[[0 0 0 0 0 0 0]\n",
      " [0 0 0 0 0 0 0]\n",
      " [0 0 0 0 0 0 0]\n",
      " [0 0 0 0 0 0 0]\n",
      " [0 0 0 0 0 0 0]\n",
      " [0 0 0 0 0 0 0]\n",
      " [0 0 0 0 0 0 0]]\n",
      "[[0 0 0 0 0 0 0]\n",
      " [0 2 2 2 2 2 0]\n",
      " [0 2 2 2 2 2 0]\n",
      " [0 2 2 2 2 2 0]\n",
      " [0 2 2 2 2 2 0]\n",
      " [0 2 2 2 2 2 0]\n",
      " [0 0 0 0 0 0 0]]\n"
     ]
    }
   ],
   "source": [
    "a=np.zeros((7,7),dtype=int)\n",
    "print(a)\n",
    "a[1:6,1:6]=2\n",
    "print(a)"
   ]
  },
  {
   "cell_type": "code",
   "execution_count": null,
   "id": "f876c321",
   "metadata": {},
   "outputs": [],
   "source": []
  },
  {
   "cell_type": "markdown",
   "id": "2a9e7408",
   "metadata": {},
   "source": [
    "#### q.11 Create a 5x5 matrix with values 1,2,3,4 just below the main diagonal "
   ]
  },
  {
   "cell_type": "code",
   "execution_count": 1,
   "id": "f44dbdf7",
   "metadata": {},
   "outputs": [
    {
     "name": "stdout",
     "output_type": "stream",
     "text": [
      "[[0 0 0 0 0]\n",
      " [1 0 0 0 0]\n",
      " [0 2 0 0 0]\n",
      " [0 0 3 0 0]\n",
      " [0 0 0 4 0]]\n"
     ]
    }
   ],
   "source": [
    "import numpy as np\n",
    "m1=np.diag([1,2,3,4],k=-1)\n",
    "print(m1)\n"
   ]
  },
  {
   "cell_type": "markdown",
   "id": "8c34d303",
   "metadata": {},
   "source": [
    "#### q.12 Multiply a 5x3 matrix by a 3x2 matrix (real matrix product)"
   ]
  },
  {
   "cell_type": "code",
   "execution_count": 2,
   "id": "e7a09323",
   "metadata": {},
   "outputs": [
    {
     "data": {
      "text/plain": [
       "matrix([[3., 3.],\n",
       "        [3., 3.],\n",
       "        [3., 3.],\n",
       "        [3., 3.],\n",
       "        [3., 3.]])"
      ]
     },
     "execution_count": 2,
     "metadata": {},
     "output_type": "execute_result"
    }
   ],
   "source": [
    "k1=np.ones((5,3))\n",
    "k11=np.mat(k1)\n",
    "type(k11)\n",
    "k2=np.ones((3,2))\n",
    "k22=np.mat(k2)\n",
    "k11*k22"
   ]
  },
  {
   "cell_type": "markdown",
   "id": "9c7561f2",
   "metadata": {},
   "source": [
    "#### q.13  create a 1D array, square all  elements which are greater than 3 "
   ]
  },
  {
   "cell_type": "code",
   "execution_count": 6,
   "id": "cd510494",
   "metadata": {},
   "outputs": [
    {
     "name": "stdout",
     "output_type": "stream",
     "text": [
      "[1 6 7 2 1]\n"
     ]
    },
    {
     "data": {
      "text/plain": [
       "array([ 1, 36, 49,  2,  1])"
      ]
     },
     "execution_count": 6,
     "metadata": {},
     "output_type": "execute_result"
    }
   ],
   "source": [
    "a=np.random.randint(1,15,5)\n",
    "print(a)\n",
    "k=np.where(a>3,a**2,a)\n",
    "k"
   ]
  },
  {
   "cell_type": "markdown",
   "id": "f093b0d5",
   "metadata": {},
   "source": [
    "#### q.14 Extract the integer part of a random array of positive numbers using  different methods \n"
   ]
  },
  {
   "cell_type": "code",
   "execution_count": 3,
   "id": "dcf2bc1e",
   "metadata": {},
   "outputs": [
    {
     "data": {
      "text/plain": [
       "array([85.46813626, 73.6479549 , 90.13130419,  7.32238932, 26.40550507,\n",
       "       15.79086451, 72.16867115, 44.61450269, 61.97300236, 19.24488065])"
      ]
     },
     "execution_count": 3,
     "metadata": {},
     "output_type": "execute_result"
    }
   ],
   "source": [
    "a=np.random.uniform(1,100,10)\n",
    "a"
   ]
  },
  {
   "cell_type": "code",
   "execution_count": 4,
   "id": "fadf482b",
   "metadata": {},
   "outputs": [
    {
     "data": {
      "text/plain": [
       "array([85, 73, 90,  7, 26, 15, 72, 44, 61, 19])"
      ]
     },
     "execution_count": 4,
     "metadata": {},
     "output_type": "execute_result"
    }
   ],
   "source": [
    "np.floor(a)\n",
    "a1=a.astype(\"int\")\n",
    "a1"
   ]
  },
  {
   "cell_type": "markdown",
   "id": "23638cab",
   "metadata": {},
   "source": [
    "#### q.15 Create a 5x5 matrix with row values ranging from 0 to 4\n"
   ]
  },
  {
   "cell_type": "code",
   "execution_count": 5,
   "id": "3fdb670a",
   "metadata": {},
   "outputs": [
    {
     "name": "stdout",
     "output_type": "stream",
     "text": [
      "Original array:\n",
      "[[0. 0. 0. 0. 0.]\n",
      " [0. 0. 0. 0. 0.]\n",
      " [0. 0. 0. 0. 0.]\n",
      " [0. 0. 0. 0. 0.]\n",
      " [0. 0. 0. 0. 0.]]\n",
      "Row values ranging from 0 to 4.\n",
      "[[0. 1. 2. 3. 4.]\n",
      " [0. 1. 2. 3. 4.]\n",
      " [0. 1. 2. 3. 4.]\n",
      " [0. 1. 2. 3. 4.]\n",
      " [0. 1. 2. 3. 4.]]\n"
     ]
    }
   ],
   "source": [
    "import numpy as np\n",
    "import numpy as np\n",
    "x = np.zeros((5,5))\n",
    "print(\"Original array:\")\n",
    "print(x)\n",
    "print(\"Row values ranging from 0 to 4.\")\n",
    "x += np.arange(5)   # broadcasting \n",
    "print(x)\n",
    "\n"
   ]
  },
  {
   "cell_type": "markdown",
   "id": "a8827069",
   "metadata": {},
   "source": [
    "### q.16 Create a vector of size 10 with values ranging from 0 to 1, both excluded \n"
   ]
  },
  {
   "cell_type": "code",
   "execution_count": 6,
   "id": "49a030ef",
   "metadata": {},
   "outputs": [
    {
     "name": "stdout",
     "output_type": "stream",
     "text": [
      "[0.1 0.2 0.3 0.4 0.5 0.6 0.7 0.8 0.9 1. ]\n"
     ]
    }
   ],
   "source": [
    "import numpy as np\n",
    "a=np.linspace(0.1,1,10)\n",
    "print(a)\n"
   ]
  },
  {
   "cell_type": "markdown",
   "id": "20f8a662",
   "metadata": {},
   "source": [
    "#### q.17 Create random vector of size 10 and replace the maximum value by 0 (★★☆)\n",
    "\n",
    "\n",
    "\n"
   ]
  },
  {
   "cell_type": "code",
   "execution_count": 7,
   "id": "4244f7de",
   "metadata": {},
   "outputs": [
    {
     "name": "stdout",
     "output_type": "stream",
     "text": [
      "the array is :\n",
      " [0.56338713 0.92148909 0.76617127 0.72534864 0.16497253 0.12206926\n",
      " 0.39076952 0.79605461 0.20304849 0.62048816 0.40746647] \n",
      "\n",
      "the max element is  0.9214890949777844 at index number  1\n",
      "the array is replaced with 0 at index 7 with new value\n",
      "  [0.56338713 0.         0.76617127 0.72534864 0.16497253 0.12206926\n",
      " 0.39076952 0.79605461 0.20304849 0.62048816 0.40746647]\n"
     ]
    }
   ],
   "source": [
    "import numpy as np\n",
    "a=np.random.rand(11)\n",
    "print(\"the array is :\\n\",a,\"\\n\")\n",
    "print(\"the max element is \",np.max(a), \"at index number \",np.argmax(a))\n",
    "a[np.argmax(a)]=0\n",
    "print(\"the array is replaced with 0 at index\",np.argmax(a),\"with new value\\n \",a)"
   ]
  },
  {
   "cell_type": "markdown",
   "id": "0949a259",
   "metadata": {},
   "source": [
    "or python cor questions "
   ]
  },
  {
   "cell_type": "markdown",
   "id": "8c0b6319",
   "metadata": {},
   "source": [
    "### q. 1  u need to lower all the characters in the given string   s = \"A man, A plan, A goodman:\" and remove all non-alphanumeric characters from the string and check after removing if the string is palindrome or not.\n"
   ]
  },
  {
   "cell_type": "code",
   "execution_count": 8,
   "id": "4c726aff",
   "metadata": {},
   "outputs": [
    {
     "name": "stdout",
     "output_type": "stream",
     "text": [
      "Aman,Aplan,Agoodman:\n",
      "AmanAplanAgoodman\n",
      "not\n"
     ]
    }
   ],
   "source": [
    "s=\"A man, A plan, A goodman:\"\n",
    "s1=s.replace(\" \",\"\")\n",
    "print(s1)\n",
    "s1=s1.replace(\",\",\"\").replace(\":\",\"\")\n",
    "print(s1)\n",
    "l_s=s1.lower()\n",
    "if l_s==l_s[::-1]:\n",
    "    print(\"palindorme\")\n",
    "else:\n",
    "    print(\"not\")"
   ]
  },
  {
   "cell_type": "markdown",
   "id": "f7859e1d",
   "metadata": {},
   "source": [
    "## q. 2\n",
    "## Take a list containg only strings. Now, take a string input from user and rearrange the elements of the list according to the number of occurence of the string taken from user in the elements of the list.\n",
    "\n",
    "\n",
    "E.g.-LIST : [\"no bun\",\"bug bun bug bun bug bug\",\"bunny bug\",\"buggy bug bug buggy\"]\n",
    "STRING TAKEN : \"bug\"\n",
    "\n",
    "\n",
    "OUTPUT LIST:[\"bug bun bug bun bug bug\",\"buggy bug bug buggy\",\"bunny bug\",\"no bun\"]\n"
   ]
  },
  {
   "cell_type": "code",
   "execution_count": 9,
   "id": "faec4ae0",
   "metadata": {},
   "outputs": [
    {
     "name": "stdout",
     "output_type": "stream",
     "text": [
      "{'no bun': 0, 'bug bun bug bun bug bug': 4, 'bunny bug': 1, 'buggy bug bug buggy': 4}\n",
      "dict_items([('no bun', 0), ('bug bun bug bun bug bug', 4), ('bunny bug', 1), ('buggy bug bug buggy', 4)])\n",
      "[('bug bun bug bun bug bug', 4), ('buggy bug bug buggy', 4), ('bunny bug', 1), ('no bun', 0)]\n",
      "['bug bun bug bun bug bug', 'buggy bug bug buggy', 'bunny bug', 'no bun']\n"
     ]
    }
   ],
   "source": [
    "l=[\"no bun\",\"bug bun bug bun bug bug\",\"bunny bug\",\"buggy bug bug buggy\"]\n",
    "d={}\n",
    "for i in l:\n",
    "    v=i.count(\"bug\")\n",
    "    d[i]=v\n",
    "print(d)\n",
    "print(d.items())\n",
    "k=sorted(d.items(),key=lambda t:t[1],reverse=True)\n",
    "print(k)\n",
    "l1=[]\n",
    "for i in k:\n",
    "    l1.append(i[0])\n",
    "print(l1)\n",
    "    "
   ]
  },
  {
   "cell_type": "code",
   "execution_count": null,
   "id": "57674ce6",
   "metadata": {},
   "outputs": [],
   "source": []
  }
 ],
 "metadata": {
  "kernelspec": {
   "display_name": "Python 3 (ipykernel)",
   "language": "python",
   "name": "python3"
  },
  "language_info": {
   "codemirror_mode": {
    "name": "ipython",
    "version": 3
   },
   "file_extension": ".py",
   "mimetype": "text/x-python",
   "name": "python",
   "nbconvert_exporter": "python",
   "pygments_lexer": "ipython3",
   "version": "3.9.12"
  }
 },
 "nbformat": 4,
 "nbformat_minor": 5
}
